{
 "cells": [
  {
   "cell_type": "markdown",
   "metadata": {},
   "source": [
    "# NimAgent\n",
    "This class represents our agent, the one that uses the weights that are updated through an ES-startegy"
   ]
  },
  {
   "cell_type": "code",
   "execution_count": null,
   "metadata": {},
   "outputs": [],
   "source": [
    "class NimAgent:\n",
    "    rules = list()\n",
    "    weights = list()\n",
    "\n",
    "    def __init__(self, weights, rules):\n",
    "        self.weights = weights\n",
    "        self.rules = rules\n",
    "    \n",
    "    def choose_move(self, state:Nim) -> Nimply:\n",
    "        # More efficient working on ndarray\n",
    "        np_weights = np.array(self.weights)\n",
    "        indexes = np.argsort(np_weights)\n",
    "        priority_queue = np.array(self.rules)[indexes][::-1]\n",
    "\n",
    "        move = None\n",
    "        for rule in priority_queue:\n",
    "            ply = rule(state)\n",
    "            if ply != None:\n",
    "                move = ply\n",
    "                break \n",
    "        \n",
    "        return move"
   ]
  }
 ],
 "metadata": {
  "language_info": {
   "name": "python"
  }
 },
 "nbformat": 4,
 "nbformat_minor": 2
}
