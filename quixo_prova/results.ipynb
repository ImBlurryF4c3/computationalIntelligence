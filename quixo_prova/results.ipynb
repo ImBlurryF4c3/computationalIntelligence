{
 "cells": [
  {
   "cell_type": "code",
   "execution_count": 1,
   "metadata": {},
   "outputs": [],
   "source": [
    "from players import RandomPlayer, MonteCarloPlayer\n",
    "from game import Game, Player\n",
    "from tqdm import tqdm\n",
    "import random\n",
    "import numpy as np\n",
    "\n",
    "GAMES = 100\n",
    "NS = [100, 125, 150]\n",
    "C = [0.1, 0.5]"
   ]
  },
  {
   "cell_type": "code",
   "execution_count": 2,
   "metadata": {},
   "outputs": [
    {
     "name": "stdout",
     "output_type": "stream",
     "text": [
      "Test avviato...\n",
      "Numero simulazioni per rollout --> 100\n",
      "C param per UCB equation --> 0.1\n"
     ]
    },
    {
     "name": "stderr",
     "output_type": "stream",
     "text": [
      "  0%|          | 0/100 [00:00<?, ?it/s]"
     ]
    },
    {
     "name": "stderr",
     "output_type": "stream",
     "text": [
      "100%|██████████| 100/100 [12:34<00:00,  7.55s/it]\n"
     ]
    },
    {
     "name": "stdout",
     "output_type": "stream",
     "text": [
      "Accuracy:  92.0\n",
      "Test avviato...\n",
      "Numero simulazioni per rollout --> 100\n",
      "C param per UCB equation --> 0.5\n"
     ]
    },
    {
     "name": "stderr",
     "output_type": "stream",
     "text": [
      "100%|██████████| 100/100 [13:23<00:00,  8.04s/it]\n"
     ]
    },
    {
     "name": "stdout",
     "output_type": "stream",
     "text": [
      "Accuracy:  89.0\n",
      "Test avviato...\n",
      "Numero simulazioni per rollout --> 125\n",
      "C param per UCB equation --> 0.1\n"
     ]
    },
    {
     "name": "stderr",
     "output_type": "stream",
     "text": [
      "100%|██████████| 100/100 [14:51<00:00,  8.91s/it]\n"
     ]
    },
    {
     "name": "stdout",
     "output_type": "stream",
     "text": [
      "Accuracy:  96.0\n",
      "Test avviato...\n",
      "Numero simulazioni per rollout --> 125\n",
      "C param per UCB equation --> 0.5\n"
     ]
    },
    {
     "name": "stderr",
     "output_type": "stream",
     "text": [
      "100%|██████████| 100/100 [16:24<00:00,  9.85s/it]\n"
     ]
    },
    {
     "name": "stdout",
     "output_type": "stream",
     "text": [
      "Accuracy:  93.0\n",
      "Test avviato...\n",
      "Numero simulazioni per rollout --> 150\n",
      "C param per UCB equation --> 0.1\n"
     ]
    },
    {
     "name": "stderr",
     "output_type": "stream",
     "text": [
      "100%|██████████| 100/100 [16:32<00:00,  9.93s/it]\n"
     ]
    },
    {
     "name": "stdout",
     "output_type": "stream",
     "text": [
      "Accuracy:  98.0\n",
      "Test avviato...\n",
      "Numero simulazioni per rollout --> 150\n",
      "C param per UCB equation --> 0.5\n"
     ]
    },
    {
     "name": "stderr",
     "output_type": "stream",
     "text": [
      "100%|██████████| 100/100 [19:23<00:00, 11.64s/it]"
     ]
    },
    {
     "name": "stdout",
     "output_type": "stream",
     "text": [
      "Accuracy:  94.0\n"
     ]
    },
    {
     "name": "stderr",
     "output_type": "stream",
     "text": [
      "\n"
     ]
    }
   ],
   "source": [
    "players = np.empty(2, dtype=Player)\n",
    "for ns in NS:\n",
    "    for c in C:\n",
    "        print(f'Test avviato...\\nNumero simulazioni per rollout --> {ns}\\nC param per UCB equation --> {c}')\n",
    "        wins = 0\n",
    "        matches = 0 \n",
    "        for _ in tqdm(range(GAMES)):\n",
    "            matches += 1\n",
    "            my_player_id = random.randint(0,1)\n",
    "            g = Game()\n",
    "\n",
    "            # player initialization -> our player is players[my_player_id]\n",
    "            players[my_player_id] = MonteCarloPlayer(player_id=my_player_id,num_simulations=ns, c_param=c)\n",
    "            players[1 - my_player_id] = RandomPlayer()\n",
    "            # play the game\n",
    "            winner = g.play(players[0], players[1])\n",
    "            if winner == my_player_id:\n",
    "                wins += 1\n",
    "        acc  = 100*float(wins)/float(matches)\n",
    "        print(\"Accuracy: \", acc)"
   ]
  }
 ],
 "metadata": {
  "kernelspec": {
   "display_name": "venv",
   "language": "python",
   "name": "python3"
  },
  "language_info": {
   "codemirror_mode": {
    "name": "ipython",
    "version": 3
   },
   "file_extension": ".py",
   "mimetype": "text/x-python",
   "name": "python",
   "nbconvert_exporter": "python",
   "pygments_lexer": "ipython3",
   "version": "3.11.0"
  }
 },
 "nbformat": 4,
 "nbformat_minor": 2
}
