{
 "cells": [
  {
   "cell_type": "code",
   "execution_count": 1,
   "metadata": {},
   "outputs": [],
   "source": [
    "from players import RandomPlayer, MonteCarloPlayer, MonteCarloPNSPlayer\n",
    "from game import Game, Player\n",
    "from tqdm import tqdm\n",
    "import random\n",
    "import numpy as np\n",
    "import os\n",
    "\n",
    "GAMES = 100\n",
    "DURATIONS = [0.1, 0.5, 1]\n",
    "C = [0.1, 0.5]\n",
    "PN = [0.1, 0.5, 1, 2]"
   ]
  },
  {
   "cell_type": "code",
   "execution_count": 3,
   "metadata": {},
   "outputs": [
    {
     "name": "stdout",
     "output_type": "stream",
     "text": [
      "Test avviato...\n",
      "Durata per turno --> 0.1\n",
      "C param per UCB equation --> 0.1\n"
     ]
    },
    {
     "name": "stderr",
     "output_type": "stream",
     "text": [
      "100%|██████████| 100/100 [03:20<00:00,  2.01s/it]\n"
     ]
    },
    {
     "name": "stdout",
     "output_type": "stream",
     "text": [
      "Accuracy:  75.0\n",
      "Test avviato...\n",
      "Durata per turno --> 0.1\n",
      "C param per UCB equation --> 0.5\n"
     ]
    },
    {
     "name": "stderr",
     "output_type": "stream",
     "text": [
      "100%|██████████| 100/100 [03:33<00:00,  2.13s/it]\n"
     ]
    },
    {
     "name": "stdout",
     "output_type": "stream",
     "text": [
      "Accuracy:  80.0\n",
      "Test avviato...\n",
      "Durata per turno --> 0.5\n",
      "C param per UCB equation --> 0.1\n"
     ]
    },
    {
     "name": "stderr",
     "output_type": "stream",
     "text": [
      "100%|██████████| 100/100 [10:23<00:00,  6.24s/it]\n"
     ]
    },
    {
     "name": "stdout",
     "output_type": "stream",
     "text": [
      "Accuracy:  98.0\n",
      "Test avviato...\n",
      "Durata per turno --> 0.5\n",
      "C param per UCB equation --> 0.5\n"
     ]
    },
    {
     "name": "stderr",
     "output_type": "stream",
     "text": [
      "100%|██████████| 100/100 [14:24<00:00,  8.64s/it]\n"
     ]
    },
    {
     "name": "stdout",
     "output_type": "stream",
     "text": [
      "Accuracy:  96.0\n",
      "Test avviato...\n",
      "Durata per turno --> 1\n",
      "C param per UCB equation --> 0.1\n"
     ]
    },
    {
     "name": "stderr",
     "output_type": "stream",
     "text": [
      "100%|██████████| 100/100 [17:54<00:00, 10.75s/it]\n"
     ]
    },
    {
     "name": "stdout",
     "output_type": "stream",
     "text": [
      "Accuracy:  98.0\n",
      "Test avviato...\n",
      "Durata per turno --> 1\n",
      "C param per UCB equation --> 0.5\n"
     ]
    },
    {
     "name": "stderr",
     "output_type": "stream",
     "text": [
      "100%|██████████| 100/100 [24:41<00:00, 14.82s/it]"
     ]
    },
    {
     "name": "stdout",
     "output_type": "stream",
     "text": [
      "Accuracy:  98.0\n"
     ]
    },
    {
     "name": "stderr",
     "output_type": "stream",
     "text": [
      "\n"
     ]
    }
   ],
   "source": [
    "# Questa cella ha come obiettivo quello di verificare il setting migliore \n",
    "# per MCTS contro Random player in modo\n",
    "with open('final_results.txt', 'w') as file:\n",
    "    file.write('TEST ON NORMAL MCTS AGAINST RANDOM PLAYER')\n",
    "players = np.empty(2, dtype=Player)\n",
    "counter = 0\n",
    "for duration in DURATIONS:\n",
    "    for c in C:\n",
    "        print(f'Test avviato...\\nDurata per turno --> {duration}\\nC param per UCB equation --> {c}')\n",
    "        counter += 1\n",
    "        wins = 0\n",
    "        matches = 0 \n",
    "        for _ in tqdm(range(GAMES)):\n",
    "            matches += 1\n",
    "            my_player_id = random.randint(0,1)\n",
    "            g = Game()\n",
    "\n",
    "            # player initialization -> our player is players[my_player_id]\n",
    "            players[my_player_id] = MonteCarloPlayer(player_id=my_player_id, duration=duration, c_param=c)\n",
    "            players[1-my_player_id] = RandomPlayer()\n",
    "            # play the game\n",
    "            winner = g.play(players[0], players[1])\n",
    "            if winner == my_player_id:\n",
    "                wins += 1\n",
    "        acc  = 100*float(wins)/float(matches)\n",
    "        print(\"Accuracy: \", acc)\n",
    "        with open('final_results.txt', 'a' if os.path.isfile('final_results.txt') else 'w') as file:\n",
    "            file.write(f\"\\n\\nConfiguration #{counter}:\\nDuration -> {duration}\\nC param -> {c}\\nTotal games -> {GAMES}\")\n",
    "            file.write(f\"\\nVictory Percentage: {acc}%\")"
   ]
  },
  {
   "cell_type": "code",
   "execution_count": 4,
   "metadata": {},
   "outputs": [
    {
     "name": "stdout",
     "output_type": "stream",
     "text": [
      "Test avviato...\n",
      "Durata per turno --> 0.1\n",
      "C param per UCB equation --> 0.1\n",
      "PN param per PNS-MCTS --> 0.1\n"
     ]
    },
    {
     "name": "stderr",
     "output_type": "stream",
     "text": [
      "100%|██████████| 100/100 [06:15<00:00,  3.75s/it]\n"
     ]
    },
    {
     "name": "stdout",
     "output_type": "stream",
     "text": [
      "Accuracy:  57.0\n",
      "Test avviato...\n",
      "Durata per turno --> 0.1\n",
      "C param per UCB equation --> 0.1\n",
      "PN param per PNS-MCTS --> 0.5\n"
     ]
    },
    {
     "name": "stderr",
     "output_type": "stream",
     "text": [
      "100%|██████████| 100/100 [05:49<00:00,  3.50s/it]\n"
     ]
    },
    {
     "name": "stdout",
     "output_type": "stream",
     "text": [
      "Accuracy:  64.0\n",
      "Test avviato...\n",
      "Durata per turno --> 0.1\n",
      "C param per UCB equation --> 0.1\n",
      "PN param per PNS-MCTS --> 1\n"
     ]
    },
    {
     "name": "stderr",
     "output_type": "stream",
     "text": [
      "100%|██████████| 100/100 [05:48<00:00,  3.48s/it]\n"
     ]
    },
    {
     "name": "stdout",
     "output_type": "stream",
     "text": [
      "Accuracy:  60.0\n",
      "Test avviato...\n",
      "Durata per turno --> 0.1\n",
      "C param per UCB equation --> 0.1\n",
      "PN param per PNS-MCTS --> 2\n"
     ]
    },
    {
     "name": "stderr",
     "output_type": "stream",
     "text": [
      "100%|██████████| 100/100 [06:11<00:00,  3.71s/it]\n"
     ]
    },
    {
     "name": "stdout",
     "output_type": "stream",
     "text": [
      "Accuracy:  54.0\n",
      "Test avviato...\n",
      "Durata per turno --> 0.1\n",
      "C param per UCB equation --> 0.5\n",
      "PN param per PNS-MCTS --> 0.1\n"
     ]
    },
    {
     "name": "stderr",
     "output_type": "stream",
     "text": [
      "100%|██████████| 100/100 [06:07<00:00,  3.67s/it]\n"
     ]
    },
    {
     "name": "stdout",
     "output_type": "stream",
     "text": [
      "Accuracy:  49.0\n",
      "Test avviato...\n",
      "Durata per turno --> 0.1\n",
      "C param per UCB equation --> 0.5\n",
      "PN param per PNS-MCTS --> 0.5\n"
     ]
    },
    {
     "name": "stderr",
     "output_type": "stream",
     "text": [
      "100%|██████████| 100/100 [06:02<00:00,  3.63s/it]\n"
     ]
    },
    {
     "name": "stdout",
     "output_type": "stream",
     "text": [
      "Accuracy:  57.0\n",
      "Test avviato...\n",
      "Durata per turno --> 0.1\n",
      "C param per UCB equation --> 0.5\n",
      "PN param per PNS-MCTS --> 1\n"
     ]
    },
    {
     "name": "stderr",
     "output_type": "stream",
     "text": [
      "100%|██████████| 100/100 [06:32<00:00,  3.92s/it]\n"
     ]
    },
    {
     "name": "stdout",
     "output_type": "stream",
     "text": [
      "Accuracy:  61.0\n",
      "Test avviato...\n",
      "Durata per turno --> 0.1\n",
      "C param per UCB equation --> 0.5\n",
      "PN param per PNS-MCTS --> 2\n"
     ]
    },
    {
     "name": "stderr",
     "output_type": "stream",
     "text": [
      "100%|██████████| 100/100 [06:19<00:00,  3.80s/it]\n"
     ]
    },
    {
     "name": "stdout",
     "output_type": "stream",
     "text": [
      "Accuracy:  61.0\n",
      "Test avviato...\n",
      "Durata per turno --> 0.5\n",
      "C param per UCB equation --> 0.1\n",
      "PN param per PNS-MCTS --> 0.1\n"
     ]
    },
    {
     "name": "stderr",
     "output_type": "stream",
     "text": [
      "100%|██████████| 100/100 [17:21<00:00, 10.42s/it]\n"
     ]
    },
    {
     "name": "stdout",
     "output_type": "stream",
     "text": [
      "Accuracy:  65.0\n",
      "Test avviato...\n",
      "Durata per turno --> 0.5\n",
      "C param per UCB equation --> 0.1\n",
      "PN param per PNS-MCTS --> 0.5\n"
     ]
    },
    {
     "name": "stderr",
     "output_type": "stream",
     "text": [
      "100%|██████████| 100/100 [21:05<00:00, 12.65s/it]\n"
     ]
    },
    {
     "name": "stdout",
     "output_type": "stream",
     "text": [
      "Accuracy:  65.0\n",
      "Test avviato...\n",
      "Durata per turno --> 0.5\n",
      "C param per UCB equation --> 0.1\n",
      "PN param per PNS-MCTS --> 1\n"
     ]
    },
    {
     "name": "stderr",
     "output_type": "stream",
     "text": [
      "100%|██████████| 100/100 [17:34<00:00, 10.55s/it]\n"
     ]
    },
    {
     "name": "stdout",
     "output_type": "stream",
     "text": [
      "Accuracy:  54.0\n",
      "Test avviato...\n",
      "Durata per turno --> 0.5\n",
      "C param per UCB equation --> 0.1\n",
      "PN param per PNS-MCTS --> 2\n"
     ]
    },
    {
     "name": "stderr",
     "output_type": "stream",
     "text": [
      "100%|██████████| 100/100 [16:52<00:00, 10.12s/it]\n"
     ]
    },
    {
     "name": "stdout",
     "output_type": "stream",
     "text": [
      "Accuracy:  63.0\n",
      "Test avviato...\n",
      "Durata per turno --> 0.5\n",
      "C param per UCB equation --> 0.5\n",
      "PN param per PNS-MCTS --> 0.1\n"
     ]
    },
    {
     "name": "stderr",
     "output_type": "stream",
     "text": [
      "100%|██████████| 100/100 [17:29<00:00, 10.50s/it]\n"
     ]
    },
    {
     "name": "stdout",
     "output_type": "stream",
     "text": [
      "Accuracy:  56.0\n",
      "Test avviato...\n",
      "Durata per turno --> 0.5\n",
      "C param per UCB equation --> 0.5\n",
      "PN param per PNS-MCTS --> 0.5\n"
     ]
    },
    {
     "name": "stderr",
     "output_type": "stream",
     "text": [
      "100%|██████████| 100/100 [17:42<00:00, 10.63s/it]\n"
     ]
    },
    {
     "name": "stdout",
     "output_type": "stream",
     "text": [
      "Accuracy:  47.0\n",
      "Test avviato...\n",
      "Durata per turno --> 0.5\n",
      "C param per UCB equation --> 0.5\n",
      "PN param per PNS-MCTS --> 1\n"
     ]
    },
    {
     "name": "stderr",
     "output_type": "stream",
     "text": [
      "100%|██████████| 100/100 [18:04<00:00, 10.84s/it]\n"
     ]
    },
    {
     "name": "stdout",
     "output_type": "stream",
     "text": [
      "Accuracy:  67.0\n",
      "Test avviato...\n",
      "Durata per turno --> 0.5\n",
      "C param per UCB equation --> 0.5\n",
      "PN param per PNS-MCTS --> 2\n"
     ]
    },
    {
     "name": "stderr",
     "output_type": "stream",
     "text": [
      "100%|██████████| 100/100 [17:13<00:00, 10.34s/it]\n"
     ]
    },
    {
     "name": "stdout",
     "output_type": "stream",
     "text": [
      "Accuracy:  54.0\n",
      "Test avviato...\n",
      "Durata per turno --> 1\n",
      "C param per UCB equation --> 0.1\n",
      "PN param per PNS-MCTS --> 0.1\n"
     ]
    },
    {
     "name": "stderr",
     "output_type": "stream",
     "text": [
      "100%|██████████| 100/100 [28:48<00:00, 17.28s/it]\n"
     ]
    },
    {
     "name": "stdout",
     "output_type": "stream",
     "text": [
      "Accuracy:  56.0\n",
      "Test avviato...\n",
      "Durata per turno --> 1\n",
      "C param per UCB equation --> 0.1\n",
      "PN param per PNS-MCTS --> 0.5\n"
     ]
    },
    {
     "name": "stderr",
     "output_type": "stream",
     "text": [
      "100%|██████████| 100/100 [32:08<00:00, 19.29s/it]\n"
     ]
    },
    {
     "name": "stdout",
     "output_type": "stream",
     "text": [
      "Accuracy:  49.0\n",
      "Test avviato...\n",
      "Durata per turno --> 1\n",
      "C param per UCB equation --> 0.1\n",
      "PN param per PNS-MCTS --> 1\n"
     ]
    },
    {
     "name": "stderr",
     "output_type": "stream",
     "text": [
      "100%|██████████| 100/100 [30:35<00:00, 18.35s/it]\n"
     ]
    },
    {
     "name": "stdout",
     "output_type": "stream",
     "text": [
      "Accuracy:  55.0\n",
      "Test avviato...\n",
      "Durata per turno --> 1\n",
      "C param per UCB equation --> 0.1\n",
      "PN param per PNS-MCTS --> 2\n"
     ]
    },
    {
     "name": "stderr",
     "output_type": "stream",
     "text": [
      "100%|██████████| 100/100 [31:34<00:00, 18.95s/it]\n"
     ]
    },
    {
     "name": "stdout",
     "output_type": "stream",
     "text": [
      "Accuracy:  65.0\n",
      "Test avviato...\n",
      "Durata per turno --> 1\n",
      "C param per UCB equation --> 0.5\n",
      "PN param per PNS-MCTS --> 0.1\n"
     ]
    },
    {
     "name": "stderr",
     "output_type": "stream",
     "text": [
      "100%|██████████| 100/100 [31:11<00:00, 18.72s/it]\n"
     ]
    },
    {
     "name": "stdout",
     "output_type": "stream",
     "text": [
      "Accuracy:  59.0\n",
      "Test avviato...\n",
      "Durata per turno --> 1\n",
      "C param per UCB equation --> 0.5\n",
      "PN param per PNS-MCTS --> 0.5\n"
     ]
    },
    {
     "name": "stderr",
     "output_type": "stream",
     "text": [
      "100%|██████████| 100/100 [30:21<00:00, 18.21s/it]\n"
     ]
    },
    {
     "name": "stdout",
     "output_type": "stream",
     "text": [
      "Accuracy:  55.0\n",
      "Test avviato...\n",
      "Durata per turno --> 1\n",
      "C param per UCB equation --> 0.5\n",
      "PN param per PNS-MCTS --> 1\n"
     ]
    },
    {
     "name": "stderr",
     "output_type": "stream",
     "text": [
      "100%|██████████| 100/100 [30:12<00:00, 18.13s/it]\n"
     ]
    },
    {
     "name": "stdout",
     "output_type": "stream",
     "text": [
      "Accuracy:  56.0\n",
      "Test avviato...\n",
      "Durata per turno --> 1\n",
      "C param per UCB equation --> 0.5\n",
      "PN param per PNS-MCTS --> 2\n"
     ]
    },
    {
     "name": "stderr",
     "output_type": "stream",
     "text": [
      "100%|██████████| 100/100 [30:27<00:00, 18.28s/it]"
     ]
    },
    {
     "name": "stdout",
     "output_type": "stream",
     "text": [
      "Accuracy:  62.0\n"
     ]
    },
    {
     "name": "stderr",
     "output_type": "stream",
     "text": [
      "\n"
     ]
    }
   ],
   "source": [
    "# Qui invece verifichiamo le migliorie apportate dalla variante PNS\n",
    "# Facciamo giocare PNS-MCTS contro la versione migliore di MCTS standard\n",
    "with open('final_results.txt', 'a' if os.path.isfile('final_results.txt') else 'w') as file:\n",
    "    file.write(\"\\n\\n\\nTUNING HYPERPARAMETER OF PNS-MCTS THROUGH MATCHES AGAINST THE BEST PERFORMING MCTS\")\n",
    "    file.write(\"For this part we freeze the value of C for the standard versione of MCTS, C = 0.1. We instead change the c value\\nand the pn value of the PNS-MCTS in order to find out the best ones.\\nNOTE: the duration is the same for both MCTS and PNS-MCTS when they play against each other\")\n",
    "players = np.empty(2, dtype=Player)\n",
    "counter = 0\n",
    "for duration in DURATIONS:\n",
    "    for c in C:\n",
    "        for pn in PN:\n",
    "            counter += 1\n",
    "            print(f'Test avviato...\\nDurata per turno --> {duration}\\nC param per UCB equation --> {c}\\nPN param per PNS-MCTS --> {pn}')\n",
    "            wins = 0\n",
    "            matches = 0 \n",
    "            for _ in tqdm(range(GAMES)):\n",
    "                matches += 1\n",
    "                my_player_id = random.randint(0,1)\n",
    "                g = Game()\n",
    "\n",
    "                # player initialization -> our player is players[my_player_id]\n",
    "                # We use the same duration for both players, tuning only the hyperparameter of PNS-MCTS\n",
    "                players[1-my_player_id] = MonteCarloPlayer(player_id=1-my_player_id,duration=duration, c_param=0.1)\n",
    "                players[my_player_id] = MonteCarloPNSPlayer(player_id=my_player_id, duration=duration, c_param=c, pn_param=pn)\n",
    "                # play the game\n",
    "                winner = g.play(players[0], players[1])\n",
    "                if winner == my_player_id:\n",
    "                    wins += 1\n",
    "            acc  = 100*float(wins)/float(matches)\n",
    "            print(\"Accuracy: \", acc)\n",
    "            with open('final_results.txt', 'a' if os.path.isfile('final_results.txt') else 'w') as file:\n",
    "                file.write(f\"\\n\\nPNS-Configuration #{counter}:\\nDuration -> {duration}\\nC param -> {c}\\nPN param -> {pn}\\nTotal games -> {GAMES}\")\n",
    "                file.write(f\"\\nVictory Percentage: {acc}%\")"
   ]
  },
  {
   "cell_type": "code",
   "execution_count": 9,
   "metadata": {},
   "outputs": [
    {
     "name": "stdout",
     "output_type": "stream",
     "text": [
      "Starting RUN#1\n"
     ]
    },
    {
     "name": "stderr",
     "output_type": "stream",
     "text": [
      "100%|██████████| 100/100 [18:56<00:00, 11.37s/it]\n"
     ]
    },
    {
     "name": "stdout",
     "output_type": "stream",
     "text": [
      "Accuracy:  57.0\n",
      "Starting RUN#2\n"
     ]
    },
    {
     "name": "stderr",
     "output_type": "stream",
     "text": [
      "100%|██████████| 100/100 [18:50<00:00, 11.31s/it]\n"
     ]
    },
    {
     "name": "stdout",
     "output_type": "stream",
     "text": [
      "Accuracy:  65.0\n",
      "Starting RUN#3\n"
     ]
    },
    {
     "name": "stderr",
     "output_type": "stream",
     "text": [
      "100%|██████████| 100/100 [34:16<00:00, 20.57s/it]  \n"
     ]
    },
    {
     "name": "stdout",
     "output_type": "stream",
     "text": [
      "Accuracy:  54.0\n",
      "Starting RUN#4\n"
     ]
    },
    {
     "name": "stderr",
     "output_type": "stream",
     "text": [
      "100%|██████████| 100/100 [19:30<00:00, 11.70s/it]\n"
     ]
    },
    {
     "name": "stdout",
     "output_type": "stream",
     "text": [
      "Accuracy:  57.0\n",
      "Starting RUN#5\n"
     ]
    },
    {
     "name": "stderr",
     "output_type": "stream",
     "text": [
      "100%|██████████| 100/100 [16:49<00:00, 10.09s/it]\n"
     ]
    },
    {
     "name": "stdout",
     "output_type": "stream",
     "text": [
      "Accuracy:  57.0\n",
      "Starting RUN#6\n"
     ]
    },
    {
     "name": "stderr",
     "output_type": "stream",
     "text": [
      "100%|██████████| 100/100 [18:14<00:00, 10.94s/it]\n"
     ]
    },
    {
     "name": "stdout",
     "output_type": "stream",
     "text": [
      "Accuracy:  59.0\n",
      "Starting RUN#7\n"
     ]
    },
    {
     "name": "stderr",
     "output_type": "stream",
     "text": [
      "100%|██████████| 100/100 [17:08<00:00, 10.29s/it]\n"
     ]
    },
    {
     "name": "stdout",
     "output_type": "stream",
     "text": [
      "Accuracy:  59.0\n",
      "Starting RUN#8\n"
     ]
    },
    {
     "name": "stderr",
     "output_type": "stream",
     "text": [
      "100%|██████████| 100/100 [17:41<00:00, 10.62s/it]\n"
     ]
    },
    {
     "name": "stdout",
     "output_type": "stream",
     "text": [
      "Accuracy:  57.0\n",
      "Starting RUN#9\n"
     ]
    },
    {
     "name": "stderr",
     "output_type": "stream",
     "text": [
      "100%|██████████| 100/100 [17:07<00:00, 10.27s/it]\n"
     ]
    },
    {
     "name": "stdout",
     "output_type": "stream",
     "text": [
      "Accuracy:  62.0\n",
      "Starting RUN#10\n"
     ]
    },
    {
     "name": "stderr",
     "output_type": "stream",
     "text": [
      "100%|██████████| 100/100 [17:01<00:00, 10.21s/it]"
     ]
    },
    {
     "name": "stdout",
     "output_type": "stream",
     "text": [
      "Accuracy:  60.0\n",
      "\n",
      "Victory Percentage: 58.70\n"
     ]
    },
    {
     "name": "stderr",
     "output_type": "stream",
     "text": [
      "\n"
     ]
    }
   ],
   "source": [
    "# PNS-Configuration #15:\n",
    "# Duration -> 0.5\n",
    "# C param -> 0.5\n",
    "# PN param -> 1\n",
    "# Total games -> 100\n",
    "# Victory Percentage: 67.0%\n",
    "\n",
    "# PNS-Configuration #20:\n",
    "# Duration -> 1\n",
    "# C param -> 0.1\n",
    "# PN param -> 2\n",
    "# Total games -> 100\n",
    "# Victory Percentage: 65.0%\n",
    "\n",
    "# From the test done, the most promising confiurations are config#15 and #20\n",
    "# I'm taking in consideration only the rersults on a duration of 0.5 and 1 because they were the best one for the standard MCTS\n",
    "# In order to have a more accurate value of the victory percentage I'm going to run 10 iterations of 100 games each, then\n",
    "# I will take the average\n",
    "\n",
    "with open('final_results.txt', 'a' if os.path.isfile('final_results.txt') else 'w') as file:\n",
    "    file.write(\"\\n\\n\\nSEARCHING FOR A MORE ACCURATE VALUE OF THE VICTORY PERCENTAGE FOR THE MOST PROMISING CONFIGURATIONS\")\n",
    "    file.write(\"10 iterations of 100 games in order to take the average of the victory percentage\\nConfiguration for MCTS -> c_param = 0.1\\nConfiguration for PN-MCTS -> Configuration #15 and #20 (look above)\")\n",
    "players = np.empty(2, dtype=Player)\n",
    "run = 0\n",
    "vic_percs = []\n",
    "for _ in range(10):\n",
    "    run += 1\n",
    "    print(f'Starting RUN#{run}')\n",
    "    wins = 0\n",
    "    matches = 0\n",
    "    for _ in tqdm(range(GAMES)):\n",
    "        matches += 1\n",
    "        my_player_id = random.randint(0,1)\n",
    "        g = Game()\n",
    "\n",
    "        # player initialization -> our player is players[my_player_id]\n",
    "        # We use the same duration for both players, tuning only the hyperparameter of PNS-MCTS\n",
    "        players[1-my_player_id] = MonteCarloPlayer(player_id=1-my_player_id,duration=0.5, c_param=0.1)\n",
    "        players[my_player_id] = MonteCarloPNSPlayer(player_id=my_player_id, duration=0.5, c_param=0.5, pn_param=1)\n",
    "        # play the game\n",
    "        winner = g.play(players[0], players[1])\n",
    "        if winner == my_player_id:\n",
    "            wins += 1\n",
    "    acc  = 100*float(wins)/float(matches)\n",
    "    print(\"Accuracy: \", acc)\n",
    "    vic_percs.append(acc)\n",
    "value = sum(vic_percs)/len(vic_percs)\n",
    "print(\"\\nVictory Percentage: %.2f\" % value)\n",
    "with open('final_results.txt', 'a' if os.path.isfile('final_results.txt') else 'w') as file:\n",
    "    file.write(f\"\\n\\nPNS-Configuration #15:\\nDuration -> 0.5\\nC param -> 0.5\\nPN param -> 1\")\n",
    "    file.write(\"\\nVictory Percentage: %.2f\" % value)"
   ]
  }
 ],
 "metadata": {
  "kernelspec": {
   "display_name": "venv",
   "language": "python",
   "name": "python3"
  },
  "language_info": {
   "codemirror_mode": {
    "name": "ipython",
    "version": 3
   },
   "file_extension": ".py",
   "mimetype": "text/x-python",
   "name": "python",
   "nbconvert_exporter": "python",
   "pygments_lexer": "ipython3",
   "version": "3.11.0"
  }
 },
 "nbformat": 4,
 "nbformat_minor": 2
}
