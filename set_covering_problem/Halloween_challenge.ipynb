{
 "cells": [
  {
   "cell_type": "code",
   "execution_count": 24,
   "metadata": {},
   "outputs": [],
   "source": [
    "from itertools import product\n",
    "from functools import reduce\n",
    "from random import random, randint, seed, choice\n",
    "import numpy as np\n",
    "from scipy import sparse\n",
    "from copy import copy\n",
    "import math"
   ]
  },
  {
   "cell_type": "code",
   "execution_count": 18,
   "metadata": {},
   "outputs": [],
   "source": [
    "def make_set_covering_problem(num_points, num_sets, density):\n",
    "    \"\"\"Returns a sparse array where rows are sets and columns are the covered items\"\"\"\n",
    "    seed(num_points*2654435761+num_sets+density)\n",
    "    # Crea una matrice sparsa inizializzata a false\n",
    "    sets = sparse.lil_array((num_sets, num_points), dtype=bool)\n",
    "\n",
    "    # Itera su tutti i possibili indici di riga e colonna della matrice, usando la funzione product del modulo itertools. \n",
    "    # Per ogni coppia di indici (s, p), assegna il valore True alla matrice con probabilità density. \n",
    "    # Questo significa che l’insieme s copre l’elemento p con probabilità density.\n",
    "    for s, p in product(range(num_sets), range(num_points)):\n",
    "        if random() < density:\n",
    "            sets[s, p] = True\n",
    "\n",
    "    # Questo pezzo di codice mi assicura che la matrice creata generi almeno una soluzione di covering.\n",
    "    # almeno un set copre ogni elemento dell’insieme universale, garantendo che esista una soluzione al problema \n",
    "    # di copertura di insiemi.\n",
    "    for p in range(num_points):\n",
    "        sets[randint(0, num_sets-1), p] = True\n",
    "    return sets"
   ]
  },
  {
   "cell_type": "markdown",
   "metadata": {},
   "source": [
    "# Halloween Challenge\n",
    "Find the best solution with the fewest calls to the fitness functions for:\n",
    "\n",
    "- num_points = [100, 1_000, 5_000]\n",
    "- num_sets = num_points\n",
    "- density = [.3, .7]"
   ]
  },
  {
   "cell_type": "code",
   "execution_count": 61,
   "metadata": {},
   "outputs": [],
   "source": [
    "# Parameters of the problem\n",
    "\n",
    "NUM_POINTS = 100\n",
    "NUM_SETS = NUM_POINTS\n",
    "DENSITY = 0.7\n",
    "\n",
    "# This parameter is useful to decide the probability of taking a set in the initial state\n",
    "# since the goal is to find the covering set with the less tiles possible it seems better to start \n",
    "# from an initial state with very few tiles taken (0 if possible)\n",
    "STARTING_PROB = 0.001\n",
    "\n",
    "SETS = make_set_covering_problem(NUM_POINTS, NUM_SETS, DENSITY)\n",
    "\n",
    "# Counter of the call to the fitness function\n",
    "call_count = 0"
   ]
  },
  {
   "cell_type": "code",
   "execution_count": 22,
   "metadata": {},
   "outputs": [],
   "source": [
    "def fitness(state):\n",
    "    # I update the number of call to the fitness function\n",
    "    global call_count\n",
    "    call_count += 1\n",
    "    \n",
    "    cost = sum(state) # How many sets I am using\n",
    "    covered_elements = np.sum(\n",
    "        reduce(\n",
    "            np.logical_or,\n",
    "            [SETS[[i]].todense() for i, t in enumerate(state) if t],\n",
    "            np.array([False for _ in range(NUM_POINTS)])\n",
    "        )\n",
    "    )\n",
    "    return covered_elements, -cost\n",
    "\n",
    "\n",
    "# Tweak function\n",
    "def tweak(state):\n",
    "    new_state = copy(state)\n",
    "    index = randint(0, NUM_SETS - 1)\n",
    "    new_state[index] = not new_state[index]\n",
    "    return new_state"
   ]
  },
  {
   "cell_type": "code",
   "execution_count": 62,
   "metadata": {},
   "outputs": [],
   "source": [
    "# Generating the first random state (chosing a set with a certain probability)\n",
    "starting_probability = [True] + [False for _ in range(int(1/STARTING_PROB)-1)]\n",
    "initial_state = [choice(starting_probability) for _ in range(NUM_SETS)]"
   ]
  },
  {
   "cell_type": "markdown",
   "metadata": {},
   "source": [
    "### Steepest ascent hill-climbing"
   ]
  },
  {
   "cell_type": "code",
   "execution_count": 31,
   "metadata": {},
   "outputs": [],
   "source": [
    "def steepest_ascent_hill_climbing(current_state, num_steps, dim_neighborhood):\n",
    "    print('STARTING steepest ascent hill climbing...')\n",
    "    global call_count\n",
    "    call_count = 0\n",
    "\n",
    "    best_fitness = fitness(current_state)\n",
    "    void_steps = 0\n",
    "    print(f'Initial state: {best_fitness}\\nNumber of steps: {num_steps}')\n",
    "\n",
    "    for step in range(num_steps):\n",
    "        state_r = tweak(current_state) # I change one set (from taken to not_taken and viceversa)\n",
    "        fitness_r = fitness(state_r)\n",
    "\n",
    "        # Then I search if in the neighborhood there's something better\n",
    "        # The idea is: if I find a better state I change another set, so\n",
    "        # potentially I could change dim_neighborhood sets (from taken to not taken and viceversa)\n",
    "        for _ in range(dim_neighborhood): \n",
    "            state_w = tweak(state_r)\n",
    "            fitness_w = fitness(state_w)\n",
    "            if fitness_w > fitness_r:\n",
    "                state_r = state_w\n",
    "                fitness_r = fitness_w\n",
    "\n",
    "        # If the state result from the local search is better than the one from which i started (current_state)\n",
    "        # I update it \n",
    "        if fitness_r > best_fitness:\n",
    "            current_state = state_r\n",
    "            best_fitness = fitness_r\n",
    "            print(f'At step {step+1} I have improved the solution: {best_fitness}')\n",
    "            void_steps = 0\n",
    "        else:\n",
    "            void_steps += 1\n",
    "            # If i passed the last 10% of step without any improvement I stop\n",
    "            if void_steps >= 0.1*num_steps:\n",
    "                break\n",
    "    \n",
    "    return best_fitness"
   ]
  },
  {
   "cell_type": "code",
   "execution_count": 71,
   "metadata": {},
   "outputs": [
    {
     "name": "stdout",
     "output_type": "stream",
     "text": [
      "STARTING steepest ascent hill climbing...\n",
      "Initial state: (0, 0)\n",
      "Number of steps: 1000\n",
      "At step 1 I have improved the solution: (100, -4)\n",
      "At step 57 I have improved the solution: (100, -3)\n",
      "STEEPEST HILL CLIMBING ----> (100, -3), with 943 calls to the fitness function\n"
     ]
    }
   ],
   "source": [
    "result = steepest_ascent_hill_climbing(initial_state, 1_000, 5)\n",
    "print(f'STEEPEST HILL CLIMBING ----> {result}, with {call_count} calls to the fitness function')\n",
    "\n",
    "# RISULTATI (Da inserire poi nel report)\n",
    "# NUM_SETS = NUM_POINTS = 5000\n",
    "# DENSITY = .3 e STARTING_PROB = 0.001\n",
    "# num_steps = 10_000\n",
    "# dim_neighborhood = 5\n",
    "# best -----> (5000, -22) with 20917 calls to the fitness function\n",
    "\n",
    "# ----------------------------------------------------------------------\n",
    "# NUM_SETS = NUM_POINTS = 5000\n",
    "# DENSITY = .7 e STARTING_PROB = 0.001\n",
    "# num_steps = 10_000\n",
    "# dim_neighborhood = 5\n",
    "# best -----> (5000, -7) with 6007 calls to the fitness function\n",
    "\n",
    "# ----------------------------------------------------------------------\n",
    "# NUM_SETS = NUM_POINTS = 1000\n",
    "# DENSITY = .3 e STARTING_PROB = 0.001\n",
    "# num_steps = 10_000\n",
    "# dim_neighborhood = 5\n",
    "# best -----> (1000, -14) with 12247 calls to the fitness function\n",
    "\n",
    "# ----------------------------------------------------------------------\n",
    "# NUM_SETS = NUM_POINTS = 1000\n",
    "# DENSITY = .7 e STARTING_PROB = 0.001\n",
    "# num_steps = 10_000\n",
    "# dim_neighborhood = 5\n",
    "# best -----> (1000, -5) with 8239 calls to the fitness function\n",
    "\n",
    "# ----------------------------------------------------------------------\n",
    "# NUM_SETS = NUM_POINTS = 100\n",
    "# DENSITY = .3 e STARTING_PROB = 0.001\n",
    "# num_steps = 1_000\n",
    "# dim_neighborhood = 5\n",
    "# best -----> (100, -7) with 715 calls to the fitness function\n",
    "\n",
    "# ----------------------------------------------------------------------\n",
    "# NUM_SETS = NUM_POINTS = 100\n",
    "# DENSITY = .7 e STARTING_PROB = 0.001\n",
    "# num_steps = 1_000\n",
    "# dim_neighborhood = 5\n",
    "# best -----> (100, -3) with 649 calls to the fitness function\n"
   ]
  },
  {
   "cell_type": "markdown",
   "metadata": {},
   "source": [
    "### Simulated annealing\n"
   ]
  },
  {
   "cell_type": "code",
   "execution_count": 86,
   "metadata": {},
   "outputs": [],
   "source": [
    "# Function that computes the difference of two evaluation of two different states\n",
    "# Easy idea: difference of the covered elements + difference of the number of sets\n",
    "def diff_fitness(fitA, fitB):\n",
    "    result = (fitA[0] - fitB[0]) + (fitA[1]-fitB[1])\n",
    "    return result"
   ]
  },
  {
   "cell_type": "code",
   "execution_count": 149,
   "metadata": {},
   "outputs": [],
   "source": [
    "def simulated_annealing(current_state, num_steps, t): # t is the initial temperature\n",
    "    print('STARTING simulated annealing...')\n",
    "    global call_count\n",
    "    call_count = 0\n",
    "    print(f'Initial state: {fitness(current_state)}\\nNumber of steps: {num_steps}, Initali Temperature: {t}')\n",
    "\n",
    "    best_fitness = fitness(current_state)\n",
    "    curr_fitness = best_fitness\n",
    "    for step in range(num_steps):\n",
    "        candidate = tweak(current_state)\n",
    "        candidate_fitness = fitness(candidate)\n",
    "        if candidate_fitness > best_fitness:\n",
    "            best_state = candidate\n",
    "            best_fitness = candidate_fitness\n",
    "            print(f'At step {step+1} I have improved the solution: {best_fitness}')\n",
    "            void_steps = 0\n",
    "        diff = diff_fitness(curr_fitness, candidate_fitness)\n",
    "        temp = t / float(step+1)\n",
    "        prob = math.exp(-diff / temp)\n",
    "        if diff < 0 or random() < prob:\n",
    "            current_state = candidate\n",
    "            curr_fitness = candidate_fitness\n",
    "\n",
    "    return best_fitness"
   ]
  },
  {
   "cell_type": "code",
   "execution_count": 150,
   "metadata": {},
   "outputs": [
    {
     "name": "stdout",
     "output_type": "stream",
     "text": [
      "STARTING simulated annealing...\n",
      "Initial state: (5000, -41)\n",
      "Number of steps: 10000, Initali Temperature: 100\n",
      "At step 6718 I have improved the solution: (5000, -40)\n",
      "At step 6721 I have improved the solution: (5000, -39)\n",
      "At step 6758 I have improved the solution: (5000, -38)\n",
      "At step 6822 I have improved the solution: (5000, -37)\n",
      "At step 6886 I have improved the solution: (5000, -36)\n",
      "At step 7031 I have improved the solution: (5000, -35)\n",
      "At step 7055 I have improved the solution: (5000, -34)\n",
      "At step 7264 I have improved the solution: (5000, -33)\n",
      "At step 7351 I have improved the solution: (5000, -32)\n",
      "At step 7532 I have improved the solution: (5000, -31)\n",
      "At step 7853 I have improved the solution: (5000, -30)\n",
      "At step 8176 I have improved the solution: (5000, -29)\n",
      "At step 8178 I have improved the solution: (5000, -28)\n",
      "At step 8384 I have improved the solution: (5000, -27)\n",
      "At step 9285 I have improved the solution: (5000, -26)\n",
      "At step 9453 I have improved the solution: (5000, -25)\n",
      "At step 9515 I have improved the solution: (5000, -24)\n",
      "At step 9825 I have improved the solution: (5000, -23)\n",
      "SIMULATED ANNEALING ----> (5000, -23), with 10002 calls to the fitness function\n"
     ]
    }
   ],
   "source": [
    "result = simulated_annealing(initial_state, 10_000, t=100)\n",
    "print(f'SIMULATED ANNEALING ----> {result}, with {call_count} calls to the fitness function')"
   ]
  },
  {
   "cell_type": "code",
   "execution_count": 17,
   "metadata": {},
   "outputs": [
    {
     "name": "stdout",
     "output_type": "stream",
     "text": [
      "[[False, False, False, False], [True, True, True, False]]\n",
      "[1.0, 1.4142135623730951]\n",
      "1.4142135623730951\n"
     ]
    }
   ],
   "source": [
    "p = [True, False, False, False]\n",
    "q = [False, False, False, False]\n",
    "z = [True, True, True, False]\n",
    "\n",
    "vect = [q,z]\n",
    "print(vect)\n",
    "\n",
    "distances = []\n",
    "for i in range(2):\n",
    "    distances.append(math.dist(p, vect[i]))\n",
    "\n",
    "print(distances)\n",
    "print(math.dist([1, 0, 0, 0],[1, 1, 1, 0]))\n",
    "# Prendo il numero di True non presenti in state e ne faccio la radice"
   ]
  }
 ],
 "metadata": {
  "kernelspec": {
   "display_name": "venv",
   "language": "python",
   "name": "python3"
  },
  "language_info": {
   "codemirror_mode": {
    "name": "ipython",
    "version": 3
   },
   "file_extension": ".py",
   "mimetype": "text/x-python",
   "name": "python",
   "nbconvert_exporter": "python",
   "pygments_lexer": "ipython3",
   "version": "3.11.0"
  }
 },
 "nbformat": 4,
 "nbformat_minor": 2
}
