{
 "cells": [
  {
   "cell_type": "markdown",
   "metadata": {},
   "source": [
    "SET-COVERING PROBLEM\n",
    "\n",
    "The set covering problem is a significant NP-hard problem in combinatorial optimization. Given a collection of elements, the set covering problem aims \n",
    "to find the minimum number of sets that incorporate (cover) all of these elements. In the set covering problem, two sets are given: a set {U} of elements \n",
    "and a set {S} of subsets of the set {U}. Each subset in {S} is associated with a predetermined cost, and the union of all the subsets covers the set \n",
    "{U}. This combinatorial problem then concerns finding the optimal number of subsets whose union covers the universal set while minimizing the total cost.\n",
    "\n",
    "SOLUTION SPACE\n",
    "\n",
    "What is a state? In this problem a state should be composed of 2 groups: one contains all the taken sets the other one the not taken. Each set contains a\n",
    "specific number of elements. \n",
    "We will need a function that checks for the goal state.\n",
    "We will use a path searching algorithms."
   ]
  },
  {
   "cell_type": "code",
   "execution_count": 29,
   "metadata": {},
   "outputs": [],
   "source": [
    "import numpy as np\n",
    "from random import random\n",
    "from functools import reduce\n",
    "from collections import namedtuple, deque\n",
    "from queue import PriorityQueue\n",
    "from math import ceil"
   ]
  },
  {
   "cell_type": "code",
   "execution_count": 40,
   "metadata": {},
   "outputs": [],
   "source": [
    "# Since we don't care about the order we decide to use sets instead of arrays to represent the tiles (group of elements)\n",
    "\n",
    "\n",
    "PROBLEM_SIZE = 50 # Number of elements (so the solution MUST contain them all)\n",
    "NUM_SETS = 20 # Number of sets/tiles\n",
    "\n",
    "# random() generates a random float number between 0 and 1\n",
    "# random() < .x gives me a boolean\n",
    "# If True it means that the element in that position is covered by the set otherwise it isn't\n",
    "# EXAMPLE: True, True, False -> Set contains element 0 and 1\n",
    "# Since I do not want to modify them I can wrap everything in a tuple (that is faster and more memory efficient than an array)\n",
    "SETS = tuple(np.array([random() < .3 for _ in range(PROBLEM_SIZE)]) for _ in range(NUM_SETS))\n",
    "State = namedtuple(\"State\", \"taken not_taken\") # From now on when I create a State() the first element will be labeled as taken, the second one as not_taken"
   ]
  },
  {
   "cell_type": "code",
   "execution_count": 134,
   "metadata": {},
   "outputs": [],
   "source": [
    "# The function that checks if the state is a goal state has to understand if with all the taken sets I'm covering all the elements (PROBLEM_SIZE)\n",
    "def goal_check(state):\n",
    "    # The second argument of the reduce function is the initial value (a nparray of all False)\n",
    "    return np.all(reduce(np.logical_or, [SETS[i] for i in state.taken], np.array([False for _ in range(PROBLEM_SIZE)])))\n",
    "\n",
    "# Before going on I check if the problem is solvable in general by putting all sets as taken and see if they cover all the elements\n",
    "assert goal_check(State(set(range(NUM_SETS)), set())), \"Problem not solvable\"\n",
    "\n",
    "# This function counts the number of repetition in a state\n",
    "def repetitions(state):\n",
    "    if len(state.taken) <= 1:\n",
    "        return 0\n",
    "    return sum(filter(lambda x: x > 0, sum(SETS[i] for i in state.taken) - 1))"
   ]
  },
  {
   "cell_type": "code",
   "execution_count": 4,
   "metadata": {},
   "outputs": [],
   "source": [
    "# PATH SEARCH ALGORITHM\n",
    "\n",
    "# Define the frontier\n",
    "# Breadth-first search -> FIFO queue (SimpleQueue)\n",
    "# Depth-first search -> LIFO queue\n",
    "# Uniform-cost search (Dijikstra) -> Priority queue"
   ]
  },
  {
   "cell_type": "markdown",
   "metadata": {},
   "source": [
    "# Depth first"
   ]
  },
  {
   "cell_type": "code",
   "execution_count": 135,
   "metadata": {},
   "outputs": [
    {
     "name": "stdout",
     "output_type": "stream",
     "text": [
      "solved in 14 steps (14 tiles) (159 repetitions)\n"
     ]
    }
   ],
   "source": [
    "frontier = deque()\n",
    "# Define the initial state\n",
    "state = State(set(), set(range(NUM_SETS)))\n",
    "frontier.append(state)\n",
    "\n",
    "# I want to count the steps it takes to find a solution\n",
    "counter = 0\n",
    "# Pop the initial state\n",
    "current_state = frontier.pop()\n",
    "\n",
    "while not goal_check(current_state):\n",
    "    counter += 1\n",
    "    for action in current_state.not_taken:\n",
    "        # Apply the action and create a new state\n",
    "        # In this case I add a set to the takens and remove it from the not_takens\n",
    "        new_state = State(current_state.taken | {action}, current_state.not_taken - {action})\n",
    "        frontier.append(new_state)\n",
    "    current_state = frontier.pop()\n",
    "    \n",
    "print(f\"solved in {counter:,} steps ({len(current_state.taken)} tiles) ({repetitions(current_state)} repetitions)\")\n",
    "#print(current_state)\n",
    "#print(sum([SETS[i] for i in current_state.taken]))"
   ]
  },
  {
   "cell_type": "markdown",
   "metadata": {},
   "source": [
    "# Breadth first"
   ]
  },
  {
   "cell_type": "code",
   "execution_count": 43,
   "metadata": {},
   "outputs": [
    {
     "name": "stdout",
     "output_type": "stream",
     "text": [
      "solved in 2,002,120 steps (6 tiles)\n"
     ]
    }
   ],
   "source": [
    "frontier = deque()\n",
    "# Define the initial state\n",
    "state = State(set(), set(range(NUM_SETS)))\n",
    "frontier.append(state)\n",
    "\n",
    "# I want to count the steps it takes to find a solution\n",
    "counter = 0\n",
    "# Pop the initial state\n",
    "current_state = frontier.popleft()\n",
    "\n",
    "while not goal_check(current_state):\n",
    "    counter += 1\n",
    "    for action in current_state.not_taken:\n",
    "        # Apply the action and create a new state\n",
    "        # In this case I add a set to the takens and remove it from the not_takens\n",
    "        new_state = State(current_state.taken | {action}, current_state.not_taken - {action})\n",
    "        frontier.append(new_state)\n",
    "    # Breadth first -> FIFO\n",
    "    current_state = frontier.popleft()\n",
    "    \n",
    "print(f\"solved in {counter:,} steps ({len(current_state.taken)} tiles)\")"
   ]
  },
  {
   "cell_type": "markdown",
   "metadata": {},
   "source": [
    "# Greedy best-first"
   ]
  },
  {
   "cell_type": "code",
   "execution_count": 136,
   "metadata": {},
   "outputs": [],
   "source": [
    "def covered(state):\n",
    "    return reduce(\n",
    "        np.logical_or,\n",
    "        [SETS[i] for i in state.taken],\n",
    "        np.array([False for _ in range(PROBLEM_SIZE)]),\n",
    "    )\n",
    "\n",
    "def f(state):\n",
    "    missing_size = PROBLEM_SIZE - sum(covered(state))\n",
    "    return missing_size"
   ]
  },
  {
   "cell_type": "code",
   "execution_count": 138,
   "metadata": {},
   "outputs": [
    {
     "name": "stdout",
     "output_type": "stream",
     "text": [
      "Solved in 7 steps (7 tiles) (67 repetitions)\n"
     ]
    }
   ],
   "source": [
    "frontier = PriorityQueue()\n",
    "state = State(set(), set(range(NUM_SETS)))\n",
    "frontier.put((f(state), state))\n",
    "\n",
    "counter = 0\n",
    "_, current_state = frontier.get()\n",
    "while not goal_check(current_state):\n",
    "    counter += 1\n",
    "    for action in current_state.not_taken:\n",
    "        # Apply the action and create a new state\n",
    "        # In this case I add a set to the takens and remove it from the not_takens\n",
    "        new_state = State(current_state.taken | {action}, current_state.not_taken - {action})\n",
    "        frontier.put((f(new_state), new_state))\n",
    "    _, current_state = frontier.get()\n",
    "\n",
    "print(f\"Solved in {counter:,} steps ({len(current_state.taken)} tiles) ({repetitions(current_state)} repetitions)\")"
   ]
  },
  {
   "cell_type": "markdown",
   "metadata": {},
   "source": [
    "# A* search"
   ]
  },
  {
   "cell_type": "code",
   "execution_count": 47,
   "metadata": {},
   "outputs": [],
   "source": [
    "def h(state):\n",
    "    # Reasoning: My heuristic is based on the best possible set I could take among all\n",
    "    # if my best set (the one with most elements covered) covers 3 elements and I am missing 6 elements covered\n",
    "    # then I would need AT LEAST 2 sets (of the largest size) to cover what I'm missing (only if those sets cover the exact elements I'm missing)\n",
    "    largest_set_size = max(sum(s) for s in SETS)\n",
    "    missing_size = PROBLEM_SIZE - sum(covered(state))\n",
    "    optimistic_estimate = ceil(missing_size / largest_set_size)\n",
    "    return optimistic_estimate\n",
    "\n",
    "\n",
    "def h2(state):\n",
    "    # This heuristic is tighter: it means that it is admissable but is \"less optimistic\" than the previous one\n",
    "    # I'm calculating how many sets I would need in the best scenario, i.e. taking in considerations only the not covered elements\n",
    "    # (I'm picking up of the biggest set after having removed the element covered by sets taken)\n",
    "    already_covered = covered(state)\n",
    "    if np.all(already_covered):\n",
    "        return 0\n",
    "    # largest set after having removed the already covered elements\n",
    "    largest_set_size = max(sum(np.logical_and(s, np.logical_not(already_covered))) for s in SETS)\n",
    "    missing_size = PROBLEM_SIZE - sum(already_covered)\n",
    "    optimistic_estimate = ceil(missing_size / largest_set_size)\n",
    "    return optimistic_estimate\n",
    "\n",
    "\n",
    "def h3(state):\n",
    "    already_covered = covered(state)\n",
    "    if np.all(already_covered):\n",
    "        return 0\n",
    "    missing_size = PROBLEM_SIZE - sum(already_covered)\n",
    "    # Instead of assuming that all the sets I need to cover every element are equal to the largest set, as i did in h2, \n",
    "    # now I'm considering all sets by itself; so I sort the sets by the number of elements they cover (from highest to lowest)\n",
    "    # and I update a counter (taken) till I cover all the elements I'm missing\n",
    "    # h3 could be a little bit more accurate in those scenario in which the dimensions of the sets (number of elements not yet covered that\n",
    "    # I actually need) is very variable\n",
    "    candidates = sorted((sum(np.logical_and(s, np.logical_not(already_covered))) for s in SETS), reverse=True)\n",
    "    taken = 1\n",
    "    while sum(candidates[:taken]) < missing_size:\n",
    "        taken += 1\n",
    "    return taken\n",
    "\n",
    "\n",
    "def f(state):\n",
    "    return len(state.taken) + h(state)"
   ]
  },
  {
   "cell_type": "code",
   "execution_count": 141,
   "metadata": {},
   "outputs": [
    {
     "name": "stdout",
     "output_type": "stream",
     "text": [
      "Solved in 7 steps (7 tiles) (67 repetitions)\n"
     ]
    }
   ],
   "source": [
    "frontier = PriorityQueue()\n",
    "state = State(set(), set(range(NUM_SETS)))\n",
    "frontier.put((f(state), state))\n",
    "\n",
    "counter = 0\n",
    "_, current_state = frontier.get()\n",
    "while not goal_check(current_state):\n",
    "    counter += 1\n",
    "    for action in current_state[1]:\n",
    "        new_state = State(current_state.taken | {action}, current_state.not_taken - {action})\n",
    "        frontier.put((f(new_state), new_state))\n",
    "    _, current_state = frontier.get()\n",
    "\n",
    "print(f\"Solved in {counter:,} steps ({len(current_state.taken)} tiles) ({repetitions(current_state)} repetitions)\")"
   ]
  },
  {
   "cell_type": "markdown",
   "metadata": {},
   "source": [
    "VARIANT\n",
    "\n",
    "Instead of looking for the combination that contains the less sets possible to cover all the elements, I will try to search the solution\n",
    "that minimizes the number of repetitions of each element (less overlap possible)\n",
    "\n",
    "# Greedy best-first"
   ]
  },
  {
   "cell_type": "code",
   "execution_count": 120,
   "metadata": {},
   "outputs": [],
   "source": [
    "# What if my objective is to find the sets that permit me to have the less repetition possible?\n",
    "\n",
    "\n",
    "# GREEDY -> repetitions + missing covered elements\n",
    "\n",
    "\n",
    "def f(state):\n",
    "    missing_size = PROBLEM_SIZE - sum(covered(state))\n",
    "    return missing_size + repetitions(state)\n"
   ]
  },
  {
   "cell_type": "code",
   "execution_count": 121,
   "metadata": {},
   "outputs": [
    {
     "name": "stdout",
     "output_type": "stream",
     "text": [
      "Solved in 446,193 steps (40 repetitions)\n",
      "State taken: {17, 19, 6, 8, 11, 12}\n",
      "73\n"
     ]
    }
   ],
   "source": [
    "frontier = PriorityQueue()\n",
    "state = State(set(), set(range(NUM_SETS)))\n",
    "frontier.put((f(state), state))\n",
    "\n",
    "counter = 0\n",
    "_, current_state = frontier.get()\n",
    "while not goal_check(current_state):\n",
    "    counter += 1\n",
    "    for action in current_state.not_taken:\n",
    "        # Apply the action and create a new state\n",
    "        # In this case I add a set to the takens and remove it from the not_takens\n",
    "        new_state = State(current_state.taken | {action}, current_state.not_taken - {action})\n",
    "        frontier.put((f(new_state), new_state))\n",
    "    _, current_state = frontier.get()\n",
    "\n",
    "print(f\"Solved in {counter:,} steps ({repetitions(current_state)} repetitions)\")\n",
    "print(f\"State taken: {current_state.taken}\")\n",
    "print(sum(s for s in current_state.taken))"
   ]
  },
  {
   "cell_type": "markdown",
   "metadata": {},
   "source": [
    "# A* search"
   ]
  },
  {
   "cell_type": "code",
   "execution_count": 155,
   "metadata": {},
   "outputs": [],
   "source": [
    "# In this case my g counts the number of repetition in the taken sets\n",
    "# the heuristic h MUST take into account the number of already covered elements in the just taken set\n",
    "# because the more I repeat the less this set should be interesting \n",
    "# devo prendere il set che ha il minor numero di already covered elements\n",
    "\n",
    "def h(state):\n",
    "    already_covered = covered(state)\n",
    "    if np.all(already_covered):\n",
    "        return 0\n",
    "    # Così è sbagliata, devo trovare il set che copre il maggior numero di non covered con il minor numero di ripetizioni\n",
    "    best_set = SETS[np.array((sum(np.logical_and(s, np.logical_not(already_covered))) - sum(np.logical_and(s, already_covered))) for s in SETS).argmax()]\n",
    "    best_set_size = sum(best_set)\n",
    "    missing_size = PROBLEM_SIZE - sum(already_covered)\n",
    "    optimistic_estimate = ceil(missing_size / best_set_size)\n",
    "    return optimistic_estimate\n",
    "\n",
    "def f_star(state):\n",
    "    return repetitions(state) + h(state)"
   ]
  },
  {
   "cell_type": "code",
   "execution_count": 154,
   "metadata": {},
   "outputs": [
    {
     "name": "stderr",
     "output_type": "stream",
     "text": [
      "C:\\Users\\robit\\AppData\\Local\\Temp\\ipykernel_19848\\755342898.py:14: RuntimeWarning: divide by zero encountered in scalar divide\n",
      "  optimistic_estimate = ceil(missing_size / best_set_size)\n"
     ]
    },
    {
     "ename": "OverflowError",
     "evalue": "cannot convert float infinity to integer",
     "output_type": "error",
     "traceback": [
      "\u001b[1;31m---------------------------------------------------------------------------\u001b[0m",
      "\u001b[1;31mOverflowError\u001b[0m                             Traceback (most recent call last)",
      "\u001b[1;32mc:\\Users\\robit\\vscode\\computationalIntelligence\\set_covering_problem\\set-covering.ipynb Cell 21\u001b[0m line \u001b[0;36m1\n\u001b[0;32m      <a href='vscode-notebook-cell:/c%3A/Users/robit/vscode/computationalIntelligence/set_covering_problem/set-covering.ipynb#X15sZmlsZQ%3D%3D?line=8'>9</a>\u001b[0m     \u001b[39mfor\u001b[39;00m action \u001b[39min\u001b[39;00m current_state[\u001b[39m1\u001b[39m]:\n\u001b[0;32m     <a href='vscode-notebook-cell:/c%3A/Users/robit/vscode/computationalIntelligence/set_covering_problem/set-covering.ipynb#X15sZmlsZQ%3D%3D?line=9'>10</a>\u001b[0m         new_state \u001b[39m=\u001b[39m State(current_state\u001b[39m.\u001b[39mtaken \u001b[39m|\u001b[39m {action}, current_state\u001b[39m.\u001b[39mnot_taken \u001b[39m-\u001b[39m {action})\n\u001b[1;32m---> <a href='vscode-notebook-cell:/c%3A/Users/robit/vscode/computationalIntelligence/set_covering_problem/set-covering.ipynb#X15sZmlsZQ%3D%3D?line=10'>11</a>\u001b[0m         frontier\u001b[39m.\u001b[39mput((f_star(new_state), new_state))\n\u001b[0;32m     <a href='vscode-notebook-cell:/c%3A/Users/robit/vscode/computationalIntelligence/set_covering_problem/set-covering.ipynb#X15sZmlsZQ%3D%3D?line=11'>12</a>\u001b[0m     _, current_state \u001b[39m=\u001b[39m frontier\u001b[39m.\u001b[39mget()\n\u001b[0;32m     <a href='vscode-notebook-cell:/c%3A/Users/robit/vscode/computationalIntelligence/set_covering_problem/set-covering.ipynb#X15sZmlsZQ%3D%3D?line=13'>14</a>\u001b[0m \u001b[39mprint\u001b[39m(\u001b[39mf\u001b[39m\u001b[39m\"\u001b[39m\u001b[39mSolved in \u001b[39m\u001b[39m{\u001b[39;00mcounter\u001b[39m:\u001b[39;00m\u001b[39m,\u001b[39m\u001b[39m}\u001b[39;00m\u001b[39m steps (\u001b[39m\u001b[39m{\u001b[39;00mrepetitions(current_state)\u001b[39m}\u001b[39;00m\u001b[39m repetitions)\u001b[39m\u001b[39m\"\u001b[39m)\n",
      "\u001b[1;32mc:\\Users\\robit\\vscode\\computationalIntelligence\\set_covering_problem\\set-covering.ipynb Cell 21\u001b[0m line \u001b[0;36m1\n\u001b[0;32m     <a href='vscode-notebook-cell:/c%3A/Users/robit/vscode/computationalIntelligence/set_covering_problem/set-covering.ipynb#X15sZmlsZQ%3D%3D?line=16'>17</a>\u001b[0m \u001b[39mdef\u001b[39;00m \u001b[39mf_star\u001b[39m(state):\n\u001b[1;32m---> <a href='vscode-notebook-cell:/c%3A/Users/robit/vscode/computationalIntelligence/set_covering_problem/set-covering.ipynb#X15sZmlsZQ%3D%3D?line=17'>18</a>\u001b[0m     \u001b[39mreturn\u001b[39;00m repetitions(state) \u001b[39m+\u001b[39m h(state)\n",
      "\u001b[1;32mc:\\Users\\robit\\vscode\\computationalIntelligence\\set_covering_problem\\set-covering.ipynb Cell 21\u001b[0m line \u001b[0;36m1\n\u001b[0;32m     <a href='vscode-notebook-cell:/c%3A/Users/robit/vscode/computationalIntelligence/set_covering_problem/set-covering.ipynb#X15sZmlsZQ%3D%3D?line=11'>12</a>\u001b[0m best_set_size \u001b[39m=\u001b[39m \u001b[39msum\u001b[39m(np\u001b[39m.\u001b[39mlogical_and(best_set, np\u001b[39m.\u001b[39mlogical_not(already_covered)))\n\u001b[0;32m     <a href='vscode-notebook-cell:/c%3A/Users/robit/vscode/computationalIntelligence/set_covering_problem/set-covering.ipynb#X15sZmlsZQ%3D%3D?line=12'>13</a>\u001b[0m missing_size \u001b[39m=\u001b[39m PROBLEM_SIZE \u001b[39m-\u001b[39m \u001b[39msum\u001b[39m(already_covered)\n\u001b[1;32m---> <a href='vscode-notebook-cell:/c%3A/Users/robit/vscode/computationalIntelligence/set_covering_problem/set-covering.ipynb#X15sZmlsZQ%3D%3D?line=13'>14</a>\u001b[0m optimistic_estimate \u001b[39m=\u001b[39m ceil(missing_size \u001b[39m/\u001b[39;49m best_set_size)\n\u001b[0;32m     <a href='vscode-notebook-cell:/c%3A/Users/robit/vscode/computationalIntelligence/set_covering_problem/set-covering.ipynb#X15sZmlsZQ%3D%3D?line=14'>15</a>\u001b[0m \u001b[39mreturn\u001b[39;00m optimistic_estimate\n",
      "\u001b[1;31mOverflowError\u001b[0m: cannot convert float infinity to integer"
     ]
    }
   ],
   "source": [
    "frontier = PriorityQueue()\n",
    "state = State(set(), set(range(NUM_SETS)))\n",
    "frontier.put((f_star(state), state))\n",
    "\n",
    "counter = 0\n",
    "_, current_state = frontier.get()\n",
    "while not goal_check(current_state):\n",
    "    counter += 1\n",
    "    for action in current_state[1]:\n",
    "        new_state = State(current_state.taken | {action}, current_state.not_taken - {action})\n",
    "        frontier.put((f_star(new_state), new_state))\n",
    "    _, current_state = frontier.get()\n",
    "\n",
    "print(f\"Solved in {counter:,} steps ({repetitions(current_state)} repetitions)\")\n",
    "print(f\"State taken: {current_state.taken}\")\n",
    "print(sum(s for s in current_state.taken))"
   ]
  },
  {
   "cell_type": "code",
   "execution_count": 145,
   "metadata": {},
   "outputs": [
    {
     "data": {
      "text/plain": [
       "array([2, 4, 6])"
      ]
     },
     "execution_count": 145,
     "metadata": {},
     "output_type": "execute_result"
    }
   ],
   "source": [
    "a = np.array([1,2,3])\n",
    "b = np.array([1,2,3])\n",
    "a+b"
   ]
  }
 ],
 "metadata": {
  "kernelspec": {
   "display_name": "venv",
   "language": "python",
   "name": "python3"
  },
  "language_info": {
   "codemirror_mode": {
    "name": "ipython",
    "version": 3
   },
   "file_extension": ".py",
   "mimetype": "text/x-python",
   "name": "python",
   "nbconvert_exporter": "python",
   "pygments_lexer": "ipython3",
   "version": "3.11.0"
  }
 },
 "nbformat": 4,
 "nbformat_minor": 2
}
