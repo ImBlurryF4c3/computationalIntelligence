{
 "cells": [
  {
   "cell_type": "code",
   "execution_count": 6,
   "metadata": {},
   "outputs": [
    {
     "data": {
      "text/plain": [
       "'\\nSET-COVERING PROBLEM\\nThe set covering problem is a significant NP-hard problem in combinatorial optimization. Given a collection of elements, the set covering problem aims \\nto find the minimum number of sets that incorporate (cover) all of these elements. In the set covering problem, two sets are given: a set {U} of elements \\nand a set {S} of subsets of the set {U}. Each subset in {S} is associated with a predetermined cost, and the union of all the subsets covers the set \\n{U}. This combinatorial problem then concerns finding the optimal number of subsets whose union covers the universal set while minimizing the total cost.\\n\\nSOLUTION SPACE\\nWhat is a state? In this problem a state should be composed of 2 groups: one contains all the taken sets the other one the not taken. Each set contains a\\nspecific number of elements. \\nWe will need a function that checks for the goal state.\\nWe will use a path searching algorithms.\\n'"
      ]
     },
     "execution_count": 6,
     "metadata": {},
     "output_type": "execute_result"
    }
   ],
   "source": [
    "\"\"\"\n",
    "SET-COVERING PROBLEM\n",
    "The set covering problem is a significant NP-hard problem in combinatorial optimization. Given a collection of elements, the set covering problem aims \n",
    "to find the minimum number of sets that incorporate (cover) all of these elements. In the set covering problem, two sets are given: a set {U} of elements \n",
    "and a set {S} of subsets of the set {U}. Each subset in {S} is associated with a predetermined cost, and the union of all the subsets covers the set \n",
    "{U}. This combinatorial problem then concerns finding the optimal number of subsets whose union covers the universal set while minimizing the total cost.\n",
    "\n",
    "SOLUTION SPACE\n",
    "What is a state? In this problem a state should be composed of 2 groups: one contains all the taken sets the other one the not taken. Each set contains a\n",
    "specific number of elements. \n",
    "We will need a function that checks for the goal state.\n",
    "We will use a path searching algorithms.\n",
    "\"\"\""
   ]
  },
  {
   "cell_type": "code",
   "execution_count": 7,
   "metadata": {},
   "outputs": [],
   "source": [
    "import numpy as np\n",
    "from random import random\n",
    "from functools import reduce\n",
    "from collections import namedtuple\n",
    "from queue import PriorityQueue, SimpleQueue, LifoQueue"
   ]
  },
  {
   "cell_type": "code",
   "execution_count": 8,
   "metadata": {},
   "outputs": [],
   "source": [
    "# Since we don't care about the order we decide to use sets instead of arrays to represent the tiles (group of elements)\n",
    "\n",
    "\n",
    "PROBLEM_SIZE = 50 # Number of elements (so the solution MUST contain them all)\n",
    "NUM_SETS = 20 # Number of sets/tiles\n",
    "\n",
    "# random() generates a random float number between 0 and 1\n",
    "# random() < .x gives me a boolean\n",
    "# If True it means that the element in that position is covered by the set otherwise it isn't\n",
    "# EXAMPLE: True, True, False -> Set contains element 0 and 1\n",
    "# Since I do not want to modify them I can wrap everything in a tuple (that is faster and more memory efficient than an array)\n",
    "SETS = tuple(np.array([random() < .3 for _ in range(PROBLEM_SIZE)]) for _ in range(NUM_SETS))\n",
    "State = namedtuple(\"State\", \"taken not_taken\") # From now on when I create a State() the first element will be labeled as taken, the second one as not_taken"
   ]
  },
  {
   "cell_type": "code",
   "execution_count": 17,
   "metadata": {},
   "outputs": [],
   "source": [
    "# The function that checks if the state is a goal state has to understand if with all the taken sets I'm covering all the elements (PROBLEM_SIZE)\n",
    "def goal_check(state):\n",
    "    # The second argument of the reduce function is the initial value (a nparray of all False)\n",
    "    return np.all(reduce(np.logical_or, [SETS[i] for i in state.taken], np.array([False for _ in range(PROBLEM_SIZE)])))\n",
    "\n",
    "# Before going on I check if the problem is solvable in general by putting all sets as taken and see if they cover all the elements\n",
    "assert goal_check(State(set(range(NUM_SETS)), set())), \"Problem not solvable\"\n",
    "\n",
    "def distance(state):\n",
    "    return PROBLEM_SIZE - sum(\n",
    "        reduce(\n",
    "            np.logical_or,\n",
    "            [SETS[i] for i in state.taken],\n",
    "            np.array([False for _ in range(PROBLEM_SIZE)]),\n",
    "        ))"
   ]
  },
  {
   "cell_type": "code",
   "execution_count": 10,
   "metadata": {},
   "outputs": [
    {
     "name": "stdout",
     "output_type": "stream",
     "text": [
      "solved in 1,985,093 steps\n",
      "State(taken={0, 1, 2, 17, 7, 12}, not_taken={3, 4, 5, 6, 8, 9, 10, 11, 13, 14, 15, 16, 18, 19})\n",
      "[1 1 3 2 2 2 3 3 3 3 1 1 3 2 2 3 2 2 2 4 4 2 1 3 4 1 2 1 1 3 1 2 2 1 2 1 2\n",
      " 3 1 1 4 1 1 1 1 3 3 3 1 2]\n"
     ]
    }
   ],
   "source": [
    "# PATH SEARCH ALGORITHM\n",
    "\n",
    "# Define the frontier\n",
    "# Breadth-first search -> FIFO queue (SimpleQueue)\n",
    "# Depth-first search -> LIFO queue\n",
    "# Uniform-cost search -> Priority queue\n",
    "frontier = SimpleQueue()\n",
    "# Define the initial state\n",
    "frontier.put(State(set(), set(range(NUM_SETS))))\n",
    "current_state = frontier.get()\n",
    "\n",
    "# I want to count the steps it takes to find a solution\n",
    "counter = 0\n",
    "\n",
    "while not goal_check(current_state):\n",
    "    counter += 1\n",
    "    for action in current_state.not_taken:\n",
    "        # Apply the action and create a new state\n",
    "        # In this case I add a set to the takens and remove it from the not_takens\n",
    "        new_state = State(current_state.taken | {action}, current_state.not_taken - {action})\n",
    "        frontier.put(new_state)\n",
    "    current_state = frontier.get()\n",
    "print(f\"solved in {counter:,} steps\")\n",
    "print(current_state)\n",
    "print(sum([SETS[i] for i in current_state.taken]))\n"
   ]
  },
  {
   "cell_type": "code",
   "execution_count": 15,
   "metadata": {},
   "outputs": [],
   "source": [
    "def get_priority(state):\n",
    "    return sum(filter(lambda x: x>0, sum([SETS[i] for i in state.taken])-1)) + distance(state)"
   ]
  },
  {
   "cell_type": "code",
   "execution_count": 19,
   "metadata": {},
   "outputs": [
    {
     "name": "stdout",
     "output_type": "stream",
     "text": [
      "solved in 1,068 steps\n",
      "{0, 1, 2, 17, 7, 12}\n",
      "[1 1 3 2 2 2 3 3 3 3 1 1 3 2 2 3 2 2 2 4 4 2 1 3 4 1 2 1 1 3 1 2 2 1 2 1 2\n",
      " 3 1 1 4 1 1 1 1 3 3 3 1 2]\n"
     ]
    }
   ],
   "source": [
    "# Optimization request: the solution MUST have the less repetiotion of elements (the less overlap of elements)\n",
    "# IDEA: My frontier is a priority queue with the priority imposed by the following equation:\n",
    "# Kp = n. of repetition (how many times an element is in overlap with the other sets)\n",
    "forntier = PriorityQueue()\n",
    "state = State(set(), set(range(NUM_SETS)))\n",
    "frontier.put(0, state)\n",
    "\n",
    "counter = 0\n",
    "current_state = frontier.get()\n",
    "while not goal_check(current_state):\n",
    "    counter += 1\n",
    "    for action in current_state.not_taken:\n",
    "        # Apply the action and create a new state\n",
    "        # In this case I add a set to the takens and remove it from the not_takens\n",
    "        new_state = State(current_state.taken | {action}, current_state.not_taken - {action})\n",
    "        priority = get_priority(new_state)\n",
    "        frontier.put(priority, new_state)\n",
    "    current_state = frontier.get()\n",
    "print(f\"solved in {counter:,} steps\")\n",
    "print(current_state.taken)\n",
    "print(sum([SETS[i] for i in current_state.taken]))\n"
   ]
  }
 ],
 "metadata": {
  "kernelspec": {
   "display_name": "venv",
   "language": "python",
   "name": "python3"
  },
  "language_info": {
   "codemirror_mode": {
    "name": "ipython",
    "version": 3
   },
   "file_extension": ".py",
   "mimetype": "text/x-python",
   "name": "python",
   "nbconvert_exporter": "python",
   "pygments_lexer": "ipython3",
   "version": "3.11.0"
  }
 },
 "nbformat": 4,
 "nbformat_minor": 2
}
