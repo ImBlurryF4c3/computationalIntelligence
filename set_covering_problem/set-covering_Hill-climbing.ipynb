{
 "cells": [
  {
   "cell_type": "code",
   "execution_count": 1,
   "metadata": {},
   "outputs": [],
   "source": [
    "from random import random, choice, randint\n",
    "from functools import reduce\n",
    "from collections import namedtuple\n",
    "from copy import copy\n",
    "import numpy as np"
   ]
  },
  {
   "cell_type": "code",
   "execution_count": 2,
   "metadata": {},
   "outputs": [],
   "source": [
    "PROBLEM_SIZE = 10 # Number of elements (so the solution MUST contain them all)\n",
    "NUM_SETS = 30 # Number of sets/tiles\n",
    "\n",
    "# In this problem the state is a array of boolean that tells me if the SETS[i] is taken or not\n",
    "SETS = tuple(np.array([random() < .3 for _ in range(PROBLEM_SIZE)]) for _ in range(NUM_SETS))\n",
    "\n",
    "# This is the starting point from which I will choose the current_state later\n",
    "starting = list([random() < .3 for _ in range(10)])"
   ]
  },
  {
   "cell_type": "code",
   "execution_count": 14,
   "metadata": {},
   "outputs": [],
   "source": [
    "# The following function evaluates the quality of the function by checking both if it's a valid solution \n",
    "# for the set covering problem and giving it a cost equal to the number of tiles used\n",
    "\n",
    "def fitness(state):\n",
    "    cost = sum(state) # How many sets I am using\n",
    "    covered_elements = np.sum(\n",
    "        reduce(\n",
    "            np.logical_or,\n",
    "            [SETS[i] for i, t in enumerate(state) if t],\n",
    "            np.array([False for _ in range(PROBLEM_SIZE)])\n",
    "        )\n",
    "    )\n",
    "    return covered_elements, -cost\n",
    "    \n",
    "    \n",
    "# The tweak function is the one which changes the solution a little bit in search of a better state\n",
    "# in this case I just decide to take or to not take a specific set\n",
    "\n",
    "def tweak(state):\n",
    "    new_state = copy(state)\n",
    "    index = randint(0, NUM_SETS - 1)\n",
    "    new_state[index] = not new_state[index]\n",
    "    return new_state"
   ]
  },
  {
   "cell_type": "code",
   "execution_count": 16,
   "metadata": {},
   "outputs": [
    {
     "ename": "NameError",
     "evalue": "name 'PROBLRM_SIZE' is not defined",
     "output_type": "error",
     "traceback": [
      "\u001b[1;31m---------------------------------------------------------------------------\u001b[0m",
      "\u001b[1;31mNameError\u001b[0m                                 Traceback (most recent call last)",
      "\u001b[1;32mc:\\Users\\robit\\vscode\\computationalIntelligence\\set_covering_problem\\set-covering_Hill-climbing.ipynb Cell 4\u001b[0m line \u001b[0;36m2\n\u001b[0;32m      <a href='vscode-notebook-cell:/c%3A/Users/robit/vscode/computationalIntelligence/set_covering_problem/set-covering_Hill-climbing.ipynb#W3sZmlsZQ%3D%3D?line=0'>1</a>\u001b[0m current_state \u001b[39m=\u001b[39m [choice(starting) \u001b[39mfor\u001b[39;00m _ \u001b[39min\u001b[39;00m \u001b[39mrange\u001b[39m(NUM_SETS)]\n\u001b[1;32m----> <a href='vscode-notebook-cell:/c%3A/Users/robit/vscode/computationalIntelligence/set_covering_problem/set-covering_Hill-climbing.ipynb#W3sZmlsZQ%3D%3D?line=1'>2</a>\u001b[0m \u001b[39mprint\u001b[39m(\u001b[39mf\u001b[39m\u001b[39m'\u001b[39m\u001b[39mFirst state starts from: \u001b[39m\u001b[39m{\u001b[39;00mfitness(current_state)\u001b[39m}\u001b[39;00m\u001b[39m'\u001b[39m)\n",
      "\u001b[1;32mc:\\Users\\robit\\vscode\\computationalIntelligence\\set_covering_problem\\set-covering_Hill-climbing.ipynb Cell 4\u001b[0m line \u001b[0;36m1\n\u001b[0;32m      <a href='vscode-notebook-cell:/c%3A/Users/robit/vscode/computationalIntelligence/set_covering_problem/set-covering_Hill-climbing.ipynb#W3sZmlsZQ%3D%3D?line=3'>4</a>\u001b[0m \u001b[39mdef\u001b[39;00m \u001b[39mfitness\u001b[39m(state):\n\u001b[0;32m      <a href='vscode-notebook-cell:/c%3A/Users/robit/vscode/computationalIntelligence/set_covering_problem/set-covering_Hill-climbing.ipynb#W3sZmlsZQ%3D%3D?line=4'>5</a>\u001b[0m     cost \u001b[39m=\u001b[39m \u001b[39msum\u001b[39m(state) \u001b[39m# How many sets I am using\u001b[39;00m\n\u001b[0;32m      <a href='vscode-notebook-cell:/c%3A/Users/robit/vscode/computationalIntelligence/set_covering_problem/set-covering_Hill-climbing.ipynb#W3sZmlsZQ%3D%3D?line=5'>6</a>\u001b[0m     covered_elements \u001b[39m=\u001b[39m np\u001b[39m.\u001b[39msum(\n\u001b[0;32m      <a href='vscode-notebook-cell:/c%3A/Users/robit/vscode/computationalIntelligence/set_covering_problem/set-covering_Hill-climbing.ipynb#W3sZmlsZQ%3D%3D?line=6'>7</a>\u001b[0m         reduce(\n\u001b[0;32m      <a href='vscode-notebook-cell:/c%3A/Users/robit/vscode/computationalIntelligence/set_covering_problem/set-covering_Hill-climbing.ipynb#W3sZmlsZQ%3D%3D?line=7'>8</a>\u001b[0m             np\u001b[39m.\u001b[39mlogical_or,\n\u001b[0;32m      <a href='vscode-notebook-cell:/c%3A/Users/robit/vscode/computationalIntelligence/set_covering_problem/set-covering_Hill-climbing.ipynb#W3sZmlsZQ%3D%3D?line=8'>9</a>\u001b[0m             [SETS[i] \u001b[39mfor\u001b[39;00m i, t \u001b[39min\u001b[39;00m \u001b[39menumerate\u001b[39m(state) \u001b[39mif\u001b[39;00m t],\n\u001b[1;32m---> <a href='vscode-notebook-cell:/c%3A/Users/robit/vscode/computationalIntelligence/set_covering_problem/set-covering_Hill-climbing.ipynb#W3sZmlsZQ%3D%3D?line=9'>10</a>\u001b[0m             np\u001b[39m.\u001b[39marray([\u001b[39mFalse\u001b[39;00m \u001b[39mfor\u001b[39;00m _ \u001b[39min\u001b[39;00m \u001b[39mrange\u001b[39m(PROBLRM_SIZE)])\n\u001b[0;32m     <a href='vscode-notebook-cell:/c%3A/Users/robit/vscode/computationalIntelligence/set_covering_problem/set-covering_Hill-climbing.ipynb#W3sZmlsZQ%3D%3D?line=10'>11</a>\u001b[0m         )\n\u001b[0;32m     <a href='vscode-notebook-cell:/c%3A/Users/robit/vscode/computationalIntelligence/set_covering_problem/set-covering_Hill-climbing.ipynb#W3sZmlsZQ%3D%3D?line=11'>12</a>\u001b[0m     )\n\u001b[0;32m     <a href='vscode-notebook-cell:/c%3A/Users/robit/vscode/computationalIntelligence/set_covering_problem/set-covering_Hill-climbing.ipynb#W3sZmlsZQ%3D%3D?line=12'>13</a>\u001b[0m     \u001b[39mreturn\u001b[39;00m covered_elements, \u001b[39m-\u001b[39mcost\n",
      "\u001b[1;31mNameError\u001b[0m: name 'PROBLRM_SIZE' is not defined"
     ]
    }
   ],
   "source": [
    "current_state = [choice(starting) for _ in range(NUM_SETS)]\n",
    "print(f'First state starts from: {fitness(current_state)}')"
   ]
  }
 ],
 "metadata": {
  "kernelspec": {
   "display_name": "venv",
   "language": "python",
   "name": "python3"
  },
  "language_info": {
   "codemirror_mode": {
    "name": "ipython",
    "version": 3
   },
   "file_extension": ".py",
   "mimetype": "text/x-python",
   "name": "python",
   "nbconvert_exporter": "python",
   "pygments_lexer": "ipython3",
   "version": "3.11.0"
  }
 },
 "nbformat": 4,
 "nbformat_minor": 2
}
