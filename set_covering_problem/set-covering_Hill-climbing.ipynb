{
 "cells": [
  {
   "cell_type": "code",
   "execution_count": 2,
   "metadata": {},
   "outputs": [],
   "source": [
    "from random import random, choice, randint\n",
    "from functools import reduce\n",
    "from collections import namedtuple\n",
    "from copy import copy\n",
    "import numpy as np"
   ]
  },
  {
   "cell_type": "code",
   "execution_count": 3,
   "metadata": {},
   "outputs": [],
   "source": [
    "PROBLEM_SIZE = 100 # Number of elements (so the solution MUST contain them all)\n",
    "NUM_SETS = 100 # Number of sets/tiles\n",
    "\n",
    "# In this problem the state is a array of boolean that tells me if the SETS[i] is taken or not\n",
    "SETS = tuple(np.array([random() < .3 for _ in range(PROBLEM_SIZE)]) for _ in range(NUM_SETS))\n",
    "\n",
    "# This is the starting point from which I will choose the current_state later\n",
    "starting = list([random() < .3 for _ in range(10)])"
   ]
  },
  {
   "cell_type": "code",
   "execution_count": 4,
   "metadata": {},
   "outputs": [],
   "source": [
    "# The following function evaluates the quality of the function by checking both if it's a valid solution \n",
    "# for the set covering problem and giving it a cost equal to the number of tiles used\n",
    "\n",
    "def fitness(state):\n",
    "    cost = sum(state) # How many sets I am using\n",
    "    covered_elements = np.sum(\n",
    "        reduce(\n",
    "            np.logical_or,\n",
    "            [SETS[i] for i, t in enumerate(state) if t],\n",
    "            np.array([False for _ in range(PROBLEM_SIZE)])\n",
    "        )\n",
    "    )\n",
    "    return covered_elements, -cost\n",
    "    \n",
    "    \n",
    "# The tweak function is the one which changes the solution a little bit in search of a better state\n",
    "# in this case I just decide to take or to not take a specific set\n",
    "\n",
    "def tweak(state):\n",
    "    new_state = copy(state)\n",
    "    index = randint(0, NUM_SETS - 1)\n",
    "    new_state[index] = not new_state[index]\n",
    "    return new_state"
   ]
  },
  {
   "cell_type": "code",
   "execution_count": 13,
   "metadata": {},
   "outputs": [
    {
     "name": "stdout",
     "output_type": "stream",
     "text": [
      "First state starts from: (97, -11)\n",
      "At step 1 I have improved the solution: (98, -12)\n",
      "At step 2 I have improved the solution: (100, -13)\n",
      "At step 19 I have improved the solution: (100, -12)\n",
      "At step 45 I have improved the solution: (100, -11)\n",
      "At step 48 I have improved the solution: (100, -10)\n",
      "At step 64 I have improved the solution: (100, -9)\n",
      "At step 89 I have improved the solution: (100, -8)\n"
     ]
    }
   ],
   "source": [
    "current_state = [choice(starting) for _ in range(NUM_SETS)]\n",
    "print(f'First state starts from: {fitness(current_state)}')\n",
    "\n",
    "# First-improvement hill-climbing\n",
    "for step in range(1_000):\n",
    "    new_state = tweak(current_state)\n",
    "    # The following comparison is between tuple objects so\n",
    "    # it first compares the first element of the tuple (in this case the covered elements)\n",
    "    # and if that one is equal then it compares the second element (that's why the cost is with a minus)\n",
    "    if fitness(new_state) >= fitness(current_state): \n",
    "        current_state = new_state\n",
    "        print(f'At step {step+1} I have improved the solution: {fitness(current_state)}')"
   ]
  }
 ],
 "metadata": {
  "kernelspec": {
   "display_name": "venv",
   "language": "python",
   "name": "python3"
  },
  "language_info": {
   "codemirror_mode": {
    "name": "ipython",
    "version": 3
   },
   "file_extension": ".py",
   "mimetype": "text/x-python",
   "name": "python",
   "nbconvert_exporter": "python",
   "pygments_lexer": "ipython3",
   "version": "3.11.0"
  }
 },
 "nbformat": 4,
 "nbformat_minor": 2
}
