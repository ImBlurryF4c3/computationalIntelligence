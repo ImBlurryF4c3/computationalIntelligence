{
 "cells": [
  {
   "cell_type": "code",
   "execution_count": 29,
   "metadata": {},
   "outputs": [],
   "source": [
    "import numpy as np\n",
    "from dataclasses import dataclass\n",
    "from random import choice, random, randint\n",
    "from functools import reduce\n",
    "from copy import copy"
   ]
  },
  {
   "cell_type": "code",
   "execution_count": 30,
   "metadata": {},
   "outputs": [],
   "source": [
    "PROBLEM_SIZE = 100\n",
    "NUM_SETS = 50\n",
    "# In this problem the state is a array of boolean that tells me if the SETS[i] is taken or not\n",
    "SETS = tuple(np.array([random() < .3 for _ in range(PROBLEM_SIZE)]) for _ in range(NUM_SETS))\n",
    "\n",
    "POPULATION_SIZE = 30 # in an Evolutionary startegy, this would have been μ\n",
    "OFFSPRING_SIZE = 20 # in an Evolutionary strategy, this whould have been λ (but it should be much largen than μ)\n",
    "# Since OFFSPRING_SIZE < POPULATION_SIZE ---> Steady-State algorithm (in GA terminology). \n",
    "# We are creating 20 new individuals every generation and putting them back in the population (50 individuals total) \n",
    "# and then we are killing the worst 20 (to come back to 30).\n",
    "# In evolutionary strategy (ES), this would have been a + strategy: we add the individual to the population and then we do \n",
    "# the selection\n",
    "TOURNAMENT_SIZE = 2\n",
    "MUTATION_PROBABILITY = .2 # Probability an individual get mutated passing from a generation to the next one"
   ]
  },
  {
   "cell_type": "code",
   "execution_count": 31,
   "metadata": {},
   "outputs": [],
   "source": [
    "def fitness(state):\n",
    "    cost = sum(state) # How many sets I am using\n",
    "    covered_elements = np.sum(\n",
    "        reduce(\n",
    "            np.logical_or,\n",
    "            [SETS[i] for i, t in enumerate(state) if t],\n",
    "            np.array([False for _ in range(PROBLEM_SIZE)])\n",
    "        )\n",
    "    )\n",
    "    return covered_elements, -cost"
   ]
  },
  {
   "cell_type": "code",
   "execution_count": 32,
   "metadata": {},
   "outputs": [],
   "source": [
    "# The genotype is chosen with the genetic operators because you have to choose the encoding and the way this can be mutated\n",
    "# and recombined in order to pass from a generation to the next one.\n",
    "\n",
    "@dataclass\n",
    "class Individual:\n",
    "    genotype: list[bool]\n",
    "    fitness: tuple\n",
    "\n",
    "# This is the function to select the best parent in my population\n",
    "def select_parent(population):\n",
    "    # I'm picking TOURNAMENT SIZE random individuals and then I pick the best one out of it: TOURNAMENT STRATEGY\n",
    "    candidates = [choice(population) for _ in range(TOURNAMENT_SIZE)]\n",
    "    champion = max(candidates, key = lambda i: i.fitness)\n",
    "    return champion\n",
    "\n",
    "# Function to mutate an individual\n",
    "def mutate(ind: Individual):\n",
    "    mutated = copy(ind)\n",
    "    index = randint(0, NUM_SETS - 1) \n",
    "    mutated.genotype[index] = not mutated.genotype[index]\n",
    "    # Dopo che abbiamo modificato l'individuo la fitness associatagli deve essere resettata\n",
    "    mutated.fitness = None\n",
    "    return mutated\n",
    "\n",
    "# Possible function to make the xover\n",
    "def one_cut_xover(ind1: Individual, ind2: Individual):\n",
    "    cut_point = randint(0, NUM_SETS-1)\n",
    "    new_ind = Individual(genotype = ind1.genotype[:cut_point] + ind2.genotype[cut_point:],\n",
    "                         fitness = None)\n",
    "    assert len(new_ind.genotype) == NUM_SETS\n",
    "    return new_ind"
   ]
  },
  {
   "cell_type": "code",
   "execution_count": 33,
   "metadata": {},
   "outputs": [],
   "source": [
    "# The population is a set of random individuals\n",
    "population = [Individual(genotype=[choice((True, False)) for _ in range(NUM_SETS)], fitness = None) \n",
    "              for _ in range(POPULATION_SIZE)]\n",
    "\n",
    "for i in population:\n",
    "    i.fitness = fitness(i.genotype)"
   ]
  },
  {
   "cell_type": "code",
   "execution_count": 34,
   "metadata": {},
   "outputs": [
    {
     "name": "stdout",
     "output_type": "stream",
     "text": [
      "best individual of #1 generation has the following fitness: (100, -18)\n",
      "best individual of #2 generation has the following fitness: (100, -17)\n",
      "best individual of #3 generation has the following fitness: (100, -14)\n",
      "best individual of #4 generation has the following fitness: (100, -14)\n",
      "best individual of #5 generation has the following fitness: (100, -13)\n",
      "best individual of #6 generation has the following fitness: (100, -13)\n",
      "best individual of #7 generation has the following fitness: (100, -12)\n",
      "best individual of #8 generation has the following fitness: (100, -12)\n",
      "best individual of #9 generation has the following fitness: (100, -12)\n",
      "best individual of #10 generation has the following fitness: (100, -12)\n"
     ]
    }
   ],
   "source": [
    "# In each step (generation) the first thing to do is to pick the PARENTS\n",
    "\n",
    "for generation in range(10):\n",
    "    # The goal is to create an offspring of OFFSPRING_SIZE new individuals mutated or recombined from the PARENTS\n",
    "    offspring = list()\n",
    "    for _ in range(OFFSPRING_SIZE):\n",
    "        # In GA Algorithms we have 2 choice as genetic operators startegies:\n",
    "        # 1) selecting between crossover (recombination) or mutation\n",
    "        # 2) you do recombination and then, with a certain probability, you mutate the offspring\n",
    "        # We are using (1)\n",
    "        if random() < MUTATION_PROBABILITY:\n",
    "            # mutation\n",
    "            p = select_parent(population)\n",
    "            o = mutate(p)\n",
    "        else:\n",
    "            # xover\n",
    "            p1 = select_parent(population)\n",
    "            p2 = select_parent(population)\n",
    "            o = one_cut_xover(p1, p2)\n",
    "        offspring.append(o)\n",
    "    # just out of this for we have an offspring for the new generation\n",
    "\n",
    "    # Now I evaluate the new offspring\n",
    "    for o in offspring:\n",
    "        o.fitness = fitness(o.genotype)\n",
    "    # I add the offspring to the population (since it is a steady state algorithm)\n",
    "    population.extend(offspring)\n",
    "    # Then I sort comparing the fitnesses\n",
    "    population.sort(key = lambda i: i.fitness, reverse = True)\n",
    "    # SURVIVAL SELECTION: I pick the POPULATION_SIZE best individuals of the new population to pass to the next generation\n",
    "    population = population[:POPULATION_SIZE]\n",
    "    print(f'best individual of #{generation+1} generation has the following fitness: {population[0].fitness}')"
   ]
  }
 ],
 "metadata": {
  "kernelspec": {
   "display_name": "venv",
   "language": "python",
   "name": "python3"
  },
  "language_info": {
   "codemirror_mode": {
    "name": "ipython",
    "version": 3
   },
   "file_extension": ".py",
   "mimetype": "text/x-python",
   "name": "python",
   "nbconvert_exporter": "python",
   "pygments_lexer": "ipython3",
   "version": "3.11.0"
  }
 },
 "nbformat": 4,
 "nbformat_minor": 2
}
