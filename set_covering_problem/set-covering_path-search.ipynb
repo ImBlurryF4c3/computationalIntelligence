{
 "cells": [
  {
   "cell_type": "markdown",
   "metadata": {},
   "source": [
    "SET-COVERING PROBLEM\n",
    "\n",
    "The set covering problem is a significant NP-hard problem in combinatorial optimization. Given a collection of elements, the set covering problem aims \n",
    "to find the minimum number of sets that incorporate (cover) all of these elements. In the set covering problem, two sets are given: a set {U} of elements \n",
    "and a set {S} of subsets of the set {U}. Each subset in {S} is associated with a predetermined cost, and the union of all the subsets covers the set \n",
    "{U}. This combinatorial problem then concerns finding the optimal number of subsets whose union covers the universal set while minimizing the total cost.\n",
    "\n",
    "SOLUTION SPACE\n",
    "\n",
    "What is a state? In this problem a state should be composed of 2 groups: one contains all the taken sets the other one the not taken. Each set contains a\n",
    "specific number of elements. \n",
    "We will need a function that checks for the goal state.\n",
    "We will use a path searching algorithms."
   ]
  },
  {
   "cell_type": "code",
   "execution_count": 1,
   "metadata": {},
   "outputs": [],
   "source": [
    "import numpy as np\n",
    "from random import random\n",
    "from functools import reduce\n",
    "from collections import namedtuple, deque\n",
    "from queue import PriorityQueue\n",
    "from math import ceil"
   ]
  },
  {
   "cell_type": "code",
   "execution_count": 2,
   "metadata": {},
   "outputs": [],
   "source": [
    "# Since we don't care about the order we decide to use sets instead of arrays to represent the tiles (group of elements)\n",
    "\n",
    "\n",
    "PROBLEM_SIZE = 50 # Number of elements (so the solution MUST contain them all)\n",
    "NUM_SETS = 20 # Number of sets/tiles\n",
    "\n",
    "# random() generates a random float number between 0 and 1\n",
    "# random() < .x gives me a boolean\n",
    "# If True it means that the element in that position is covered by the set otherwise it isn't\n",
    "# EXAMPLE: True, True, False -> Set contains element 0 and 1\n",
    "# Since I do not want to modify them I can wrap everything in a tuple (that is faster and more memory efficient than an array)\n",
    "SETS = tuple(np.array([random() < .3 for _ in range(PROBLEM_SIZE)]) for _ in range(NUM_SETS))\n",
    "State = namedtuple(\"State\", \"taken not_taken\") # From now on when I create a State() the first element will be labeled as taken, the second one as not_taken"
   ]
  },
  {
   "cell_type": "code",
   "execution_count": 3,
   "metadata": {},
   "outputs": [],
   "source": [
    "# The function that checks if the state is a goal state has to understand if with all the taken sets I'm covering all the elements (PROBLEM_SIZE)\n",
    "def goal_check(state):\n",
    "    # The second argument of the reduce function is the initial value (a nparray of all False)\n",
    "    return np.all(reduce(np.logical_or, [SETS[i] for i in state.taken], np.array([False for _ in range(PROBLEM_SIZE)])))\n",
    "\n",
    "# Before going on I check if the problem is solvable in general by putting all sets as taken and see if they cover all the elements\n",
    "assert goal_check(State(set(range(NUM_SETS)), set())), \"Problem not solvable\"\n",
    "\n",
    "# This function counts the number of repetition in a state (used for the variant of the problem)\n",
    "def repetitions(state):\n",
    "    if len(state.taken) <= 1:\n",
    "        return 0\n",
    "    return sum(filter(lambda x: x > 0, sum(SETS[i] for i in state.taken) - 1))"
   ]
  },
  {
   "cell_type": "code",
   "execution_count": 4,
   "metadata": {},
   "outputs": [],
   "source": [
    "# PATH SEARCH ALGORITHM\n",
    "\n",
    "# Define the frontier\n",
    "# Breadth-first search -> FIFO queue (SimpleQueue)\n",
    "# Depth-first search -> LIFO queue\n",
    "# Uniform-cost search (Dijikstra) -> Priority queue"
   ]
  },
  {
   "cell_type": "markdown",
   "metadata": {},
   "source": [
    "# Depth first"
   ]
  },
  {
   "cell_type": "code",
   "execution_count": 5,
   "metadata": {},
   "outputs": [
    {
     "name": "stdout",
     "output_type": "stream",
     "text": [
      "Solved in 10 steps (10 tiles) (88 repetitions)\n",
      "State taken: {10, 11, 12, 13, 14, 15, 16, 17, 18, 19}\n"
     ]
    }
   ],
   "source": [
    "frontier = deque()\n",
    "# Define the initial state\n",
    "state = State(set(), set(range(NUM_SETS)))\n",
    "frontier.append(state)\n",
    "\n",
    "# I want to count the steps it takes to find a solution\n",
    "counter = 0\n",
    "# Pop the initial state\n",
    "current_state = frontier.pop()\n",
    "\n",
    "while not goal_check(current_state):\n",
    "    counter += 1\n",
    "    for action in current_state.not_taken:\n",
    "        # Apply the action and create a new state\n",
    "        # In this case I add a set to the takens and remove it from the not_takens\n",
    "        new_state = State(current_state.taken | {action}, current_state.not_taken - {action})\n",
    "        frontier.append(new_state)\n",
    "    current_state = frontier.pop()\n",
    "    \n",
    "print(f\"Solved in {counter:,} steps ({len(current_state.taken)} tiles) ({repetitions(current_state)} repetitions)\")\n",
    "print(f\"State taken: {current_state.taken}\")"
   ]
  },
  {
   "cell_type": "markdown",
   "metadata": {},
   "source": [
    "# Breadth first"
   ]
  },
  {
   "cell_type": "code",
   "execution_count": 6,
   "metadata": {},
   "outputs": [
    {
     "name": "stdout",
     "output_type": "stream",
     "text": [
      "Solved in 130,240 steps (5 tiles) (38 repetitions)\n",
      "State taken: {0, 2, 19, 8, 14}\n"
     ]
    }
   ],
   "source": [
    "frontier = deque()\n",
    "# Define the initial state\n",
    "state = State(set(), set(range(NUM_SETS)))\n",
    "frontier.append(state)\n",
    "\n",
    "# I want to count the steps it takes to find a solution\n",
    "counter = 0\n",
    "# Pop the initial state\n",
    "current_state = frontier.popleft()\n",
    "\n",
    "while not goal_check(current_state):\n",
    "    counter += 1\n",
    "    for action in current_state.not_taken:\n",
    "        # Apply the action and create a new state\n",
    "        # In this case I add a set to the takens and remove it from the not_takens\n",
    "        new_state = State(current_state.taken | {action}, current_state.not_taken - {action})\n",
    "        frontier.append(new_state)\n",
    "    # Breadth first -> FIFO\n",
    "    current_state = frontier.popleft()\n",
    "    \n",
    "print(f\"Solved in {counter:,} steps ({len(current_state.taken)} tiles) ({repetitions(current_state)} repetitions)\")\n",
    "print(f\"State taken: {current_state.taken}\")"
   ]
  },
  {
   "cell_type": "markdown",
   "metadata": {},
   "source": [
    "# Greedy best-first"
   ]
  },
  {
   "cell_type": "code",
   "execution_count": 7,
   "metadata": {},
   "outputs": [],
   "source": [
    "def covered(state):\n",
    "    return reduce(\n",
    "        np.logical_or,\n",
    "        [SETS[i] for i in state.taken],\n",
    "        np.array([False for _ in range(PROBLEM_SIZE)]),\n",
    "    )\n",
    "\n",
    "def f(state):\n",
    "    missing_size = PROBLEM_SIZE - sum(covered(state))\n",
    "    return missing_size"
   ]
  },
  {
   "cell_type": "code",
   "execution_count": 8,
   "metadata": {},
   "outputs": [
    {
     "name": "stdout",
     "output_type": "stream",
     "text": [
      "Solved in 5 steps (5 tiles) (40 repetitions)\n",
      "State taken: {19, 4, 8, 13, 14}\n"
     ]
    }
   ],
   "source": [
    "frontier = PriorityQueue()\n",
    "state = State(set(), set(range(NUM_SETS)))\n",
    "frontier.put((f(state), state))\n",
    "\n",
    "counter = 0\n",
    "_, current_state = frontier.get()\n",
    "while not goal_check(current_state):\n",
    "    counter += 1\n",
    "    for action in current_state.not_taken:\n",
    "        # Apply the action and create a new state\n",
    "        # In this case I add a set to the takens and remove it from the not_takens\n",
    "        new_state = State(current_state.taken | {action}, current_state.not_taken - {action})\n",
    "        frontier.put((f(new_state), new_state))\n",
    "    _, current_state = frontier.get()\n",
    "\n",
    "print(f\"Solved in {counter:,} steps ({len(current_state.taken)} tiles) ({repetitions(current_state)} repetitions)\")\n",
    "print(f\"State taken: {current_state.taken}\")"
   ]
  },
  {
   "cell_type": "markdown",
   "metadata": {},
   "source": [
    "# A* search"
   ]
  },
  {
   "cell_type": "code",
   "execution_count": 9,
   "metadata": {},
   "outputs": [],
   "source": [
    "def h(state):\n",
    "    # Reasoning: My heuristic is based on the best possible set I could take among all\n",
    "    # if my best set (the one with most elements covered) covers 3 elements and I am missing 6 elements covered\n",
    "    # then I would need AT LEAST 2 sets (of the largest size) to cover what I'm missing (only if those sets cover the exact elements I'm missing)\n",
    "    largest_set_size = max(sum(s) for s in SETS)\n",
    "    missing_size = PROBLEM_SIZE - sum(covered(state))\n",
    "    optimistic_estimate = ceil(missing_size / largest_set_size)\n",
    "    return optimistic_estimate\n",
    "\n",
    "\n",
    "def h2(state):\n",
    "    # This heuristic is tighter: it means that it is admissable but is \"less optimistic\" than the previous one\n",
    "    # I'm calculating how many sets I would need in the best scenario, i.e. taking in considerations only the not covered elements\n",
    "    # (I'm picking up of the biggest set after having removed the element covered by sets taken)\n",
    "    already_covered = covered(state)\n",
    "    if np.all(already_covered):\n",
    "        return 0\n",
    "    # largest set after having removed the already covered elements\n",
    "    largest_set_size = max(sum(np.logical_and(s, np.logical_not(already_covered))) for s in SETS)\n",
    "    missing_size = PROBLEM_SIZE - sum(already_covered)\n",
    "    optimistic_estimate = ceil(missing_size / largest_set_size)\n",
    "    return optimistic_estimate\n",
    "\n",
    "\n",
    "def h3(state):\n",
    "    already_covered = covered(state)\n",
    "    if np.all(already_covered):\n",
    "        return 0\n",
    "    missing_size = PROBLEM_SIZE - sum(already_covered)\n",
    "    # Instead of assuming that all the sets I need to cover every element are equal to the largest set, as i did in h2, \n",
    "    # now I'm considering all sets by itself; so I sort the sets by the number of elements they cover (from highest to lowest)\n",
    "    # and I update a counter (taken) till I cover all the elements I'm missing\n",
    "    # h3 could be a little bit more accurate in those scenario in which the dimensions of the sets (number of elements not yet covered that\n",
    "    # I actually need) is very variable\n",
    "    candidates = sorted((sum(np.logical_and(s, np.logical_not(already_covered))) for s in SETS), reverse=True)\n",
    "    taken = 1\n",
    "    while sum(candidates[:taken]) < missing_size:\n",
    "        taken += 1\n",
    "    return taken\n",
    "\n",
    "\n",
    "def f(state):\n",
    "    return len(state.taken) + h(state)"
   ]
  },
  {
   "cell_type": "code",
   "execution_count": 10,
   "metadata": {},
   "outputs": [
    {
     "name": "stdout",
     "output_type": "stream",
     "text": [
      "Solved in 7,735 steps (5 tiles) (38 repetitions)\n",
      "State taken: {0, 2, 19, 8, 14}\n"
     ]
    }
   ],
   "source": [
    "frontier = PriorityQueue()\n",
    "state = State(set(), set(range(NUM_SETS)))\n",
    "frontier.put((f(state), state))\n",
    "\n",
    "counter = 0\n",
    "_, current_state = frontier.get()\n",
    "while not goal_check(current_state):\n",
    "    counter += 1\n",
    "    for action in current_state[1]:\n",
    "        new_state = State(current_state.taken | {action}, current_state.not_taken - {action})\n",
    "        frontier.put((f(new_state), new_state))\n",
    "    _, current_state = frontier.get()\n",
    "\n",
    "print(f\"Solved in {counter:,} steps ({len(current_state.taken)} tiles) ({repetitions(current_state)} repetitions)\")\n",
    "print(f\"State taken: {current_state.taken}\")"
   ]
  },
  {
   "cell_type": "markdown",
   "metadata": {},
   "source": [
    "VARIANT\n",
    "\n",
    "Instead of looking for the combination that contains the less sets possible to cover all the elements, I will try to search the solution\n",
    "that minimizes the number of repetitions of each element (less overlap possible)\n",
    "\n",
    "# Greedy best-first"
   ]
  },
  {
   "cell_type": "code",
   "execution_count": 11,
   "metadata": {},
   "outputs": [],
   "source": [
    "# What if my objective is to find the sets that permit me to have the less repetition possible?\n",
    "\"\"\" Some example to know if I was doing right\n",
    "SETS = tuple(np.array([[True, False, False, True, False, False, False, False, False],\n",
    "                       [True, False, True, False, False, True, True, False, False],\n",
    "                       [True, True, True, False, False, False, True, False, True],\n",
    "                       [False, True, False, False, True, False, False, False, True],\n",
    "                       [False, False, False, True, False, False, False, False, True],\n",
    "                       [False, False, True, True, True, False, True, True, False],\n",
    "                       [False, False, False, False, False, True, True, True, False],\n",
    "                       [True, False, False, True, False, True, False, False, False],\n",
    "                       [False, True, False, False, False, True, True, True, False],\n",
    "                       [False, False, False, False, False, True, False, False, False]]))\n",
    "\n",
    "PROBLEM_SIZE = 9\n",
    "NUM_SETS = 10\n",
    "\"\"\"\n",
    "\n",
    "# GREEDY -> repetitions + missing covered elements\n",
    "def f(state):\n",
    "    missing_size = PROBLEM_SIZE - sum(covered(state))\n",
    "    return missing_size + repetitions(state)\n"
   ]
  },
  {
   "cell_type": "code",
   "execution_count": 12,
   "metadata": {},
   "outputs": [
    {
     "name": "stdout",
     "output_type": "stream",
     "text": [
      "Solved in 17,270 steps (30 repetitions)\n",
      "State taken: {19, 4, 6, 10, 14}\n"
     ]
    }
   ],
   "source": [
    "frontier = PriorityQueue()\n",
    "state = State(set(), set(range(NUM_SETS)))\n",
    "frontier.put((f(state), state))\n",
    "\n",
    "counter = 0\n",
    "_, current_state = frontier.get()\n",
    "while not goal_check(current_state):\n",
    "    counter += 1\n",
    "    for action in current_state.not_taken:\n",
    "        # Apply the action and create a new state\n",
    "        # In this case I add a set to the takens and remove it from the not_takens\n",
    "        new_state = State(current_state.taken | {action}, current_state.not_taken - {action})\n",
    "        frontier.put((f(new_state), new_state))\n",
    "    _, current_state = frontier.get()\n",
    "\n",
    "print(f\"Solved in {counter:,} steps ({repetitions(current_state)} repetitions)\")\n",
    "print(f\"State taken: {current_state.taken}\")"
   ]
  },
  {
   "cell_type": "markdown",
   "metadata": {},
   "source": [
    "# A* search"
   ]
  },
  {
   "cell_type": "code",
   "execution_count": 13,
   "metadata": {},
   "outputs": [],
   "source": [
    "# In this case my g counts the number of repetition in the taken sets\n",
    "# the heuristic h MUST take into account the number of already covered elements in the just taken set\n",
    "# because the more I repeat the less this set should be interesting \n",
    "# devo prendere il set che ha il minor numero di already covered elements\n",
    "\n",
    "def h(state):\n",
    "    already_covered = covered(state)\n",
    "    if np.all(already_covered):\n",
    "        return 0\n",
    "    # best_set is the set with the less repetition possible\n",
    "    best_set = SETS[np.array(sum(np.logical_and(s, already_covered)) for s in SETS).argmin()]\n",
    "    best_set_size = sum(best_set)\n",
    "    missing_size = PROBLEM_SIZE - sum(already_covered)\n",
    "    optimistic_estimate = ceil(missing_size / best_set_size)\n",
    "    return optimistic_estimate\n",
    "\n",
    "\n",
    "# Optimization: I look also at the frequence of each element\n",
    "\n",
    "FREQUENCE = np.array(sum(s for s in SETS)) / NUM_SETS\n",
    "\n",
    "def h2(state):\n",
    "    already_covered = covered(state)\n",
    "    if np.all(already_covered):\n",
    "        return 0\n",
    "    # best_set is the set with the less repetition possible that takes the less frequent elements\n",
    "    best_set = SETS[np.array(sum(np.logical_and(s, already_covered)) + sum(FREQUENCE[np.logical_and(s, np.logical_not(already_covered))]) for s in SETS).argmin()]\n",
    "    best_set_size = sum(best_set)\n",
    "    missing_size = PROBLEM_SIZE - sum(already_covered)\n",
    "    optimistic_estimate = ceil(missing_size / best_set_size)\n",
    "    return optimistic_estimate\n",
    "\n",
    "def f_star(state):\n",
    "    return repetitions(state) + h2(state)"
   ]
  },
  {
   "cell_type": "code",
   "execution_count": 14,
   "metadata": {},
   "outputs": [
    {
     "name": "stdout",
     "output_type": "stream",
     "text": [
      "Solved in 821,729 steps (30 repetitions)\n",
      "State taken: {19, 4, 6, 10, 14}\n"
     ]
    }
   ],
   "source": [
    "frontier = PriorityQueue()\n",
    "state = State(set(), set(range(NUM_SETS)))\n",
    "frontier.put((f_star(state), state))\n",
    "\n",
    "counter = 0\n",
    "_, current_state = frontier.get()\n",
    "while not goal_check(current_state):\n",
    "    counter += 1\n",
    "    for action in current_state[1]:\n",
    "        new_state = State(current_state.taken | {action}, current_state.not_taken - {action})\n",
    "        frontier.put((f_star(new_state), new_state))\n",
    "    _, current_state = frontier.get()\n",
    "\n",
    "print(f\"Solved in {counter:,} steps ({repetitions(current_state)} repetitions)\")\n",
    "print(f\"State taken: {current_state.taken}\")\n",
    "\n",
    "\n",
    "# Final Conclusion: It seems that the A* is not working properly since it's giving me the same results of the greedy approach\n",
    "# Probably the heuristic is not good enough\n",
    "# The idea i Followed to write the heuristic was taking the size of best set possible and use that one to calculate\n",
    "# the number of minimal sets I need to cover all the remaining elements (as did for the A* in the first version); but\n",
    "# the h was taking into account not the largest set but the set with less repetition possible\n"
   ]
  }
 ],
 "metadata": {
  "kernelspec": {
   "display_name": "venv",
   "language": "python",
   "name": "python3"
  },
  "language_info": {
   "codemirror_mode": {
    "name": "ipython",
    "version": 3
   },
   "file_extension": ".py",
   "mimetype": "text/x-python",
   "name": "python",
   "nbconvert_exporter": "python",
   "pygments_lexer": "ipython3",
   "version": "3.11.0"
  }
 },
 "nbformat": 4,
 "nbformat_minor": 2
}
